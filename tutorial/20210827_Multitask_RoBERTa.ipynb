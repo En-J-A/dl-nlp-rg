{
  "nbformat": 4,
  "nbformat_minor": 0,
  "metadata": {
    "colab": {
      "name": "Multitask_RoBERTa.ipynb",
      "provenance": [],
      "collapsed_sections": []
    },
    "kernelspec": {
      "name": "python3",
      "display_name": "Python 3"
    },
    "language_info": {
      "name": "python"
    },
    "accelerator": "GPU",
    "widgets": {
      "application/vnd.jupyter.widget-state+json": {
        "240d93e0423d49318103d8661f02a7cc": {
          "model_module": "@jupyter-widgets/controls",
          "model_name": "HBoxModel",
          "model_module_version": "1.5.0",
          "state": {
            "_view_name": "HBoxView",
            "_dom_classes": [],
            "_model_name": "HBoxModel",
            "_view_module": "@jupyter-widgets/controls",
            "_model_module_version": "1.5.0",
            "_view_count": null,
            "_view_module_version": "1.5.0",
            "box_style": "",
            "layout": "IPY_MODEL_ba46dbff7a864c65a87e708f07e60136",
            "_model_module": "@jupyter-widgets/controls",
            "children": [
              "IPY_MODEL_614614acad0d41b4b500072db68b39b4",
              "IPY_MODEL_74b4ea08f5a24ddaad11edd8fa44abd3",
              "IPY_MODEL_e7d7eb50fc544c45810592d6df2bba19"
            ]
          }
        },
        "ba46dbff7a864c65a87e708f07e60136": {
          "model_module": "@jupyter-widgets/base",
          "model_name": "LayoutModel",
          "model_module_version": "1.2.0",
          "state": {
            "_view_name": "LayoutView",
            "grid_template_rows": null,
            "right": null,
            "justify_content": null,
            "_view_module": "@jupyter-widgets/base",
            "overflow": null,
            "_model_module_version": "1.2.0",
            "_view_count": null,
            "flex_flow": null,
            "width": null,
            "min_width": null,
            "border": null,
            "align_items": null,
            "bottom": null,
            "_model_module": "@jupyter-widgets/base",
            "top": null,
            "grid_column": null,
            "overflow_y": null,
            "overflow_x": null,
            "grid_auto_flow": null,
            "grid_area": null,
            "grid_template_columns": null,
            "flex": null,
            "_model_name": "LayoutModel",
            "justify_items": null,
            "grid_row": null,
            "max_height": null,
            "align_content": null,
            "visibility": null,
            "align_self": null,
            "height": null,
            "min_height": null,
            "padding": null,
            "grid_auto_rows": null,
            "grid_gap": null,
            "max_width": null,
            "order": null,
            "_view_module_version": "1.2.0",
            "grid_template_areas": null,
            "object_position": null,
            "object_fit": null,
            "grid_auto_columns": null,
            "margin": null,
            "display": null,
            "left": null
          }
        },
        "614614acad0d41b4b500072db68b39b4": {
          "model_module": "@jupyter-widgets/controls",
          "model_name": "HTMLModel",
          "model_module_version": "1.5.0",
          "state": {
            "_view_name": "HTMLView",
            "style": "IPY_MODEL_01b0f326447949659dea4de2eb030f10",
            "_dom_classes": [],
            "description": "",
            "_model_name": "HTMLModel",
            "placeholder": "​",
            "_view_module": "@jupyter-widgets/controls",
            "_model_module_version": "1.5.0",
            "value": "Downloading: 100%",
            "_view_count": null,
            "_view_module_version": "1.5.0",
            "description_tooltip": null,
            "_model_module": "@jupyter-widgets/controls",
            "layout": "IPY_MODEL_8f917d1ae0594f4f8fa54bfc52b7af28"
          }
        },
        "74b4ea08f5a24ddaad11edd8fa44abd3": {
          "model_module": "@jupyter-widgets/controls",
          "model_name": "FloatProgressModel",
          "model_module_version": "1.5.0",
          "state": {
            "_view_name": "ProgressView",
            "style": "IPY_MODEL_67bf9f87d33c421eb479a9131535a34a",
            "_dom_classes": [],
            "description": "",
            "_model_name": "FloatProgressModel",
            "bar_style": "success",
            "max": 898823,
            "_view_module": "@jupyter-widgets/controls",
            "_model_module_version": "1.5.0",
            "value": 898823,
            "_view_count": null,
            "_view_module_version": "1.5.0",
            "orientation": "horizontal",
            "min": 0,
            "description_tooltip": null,
            "_model_module": "@jupyter-widgets/controls",
            "layout": "IPY_MODEL_bcb9e4136269482c898aade1eed25a28"
          }
        },
        "e7d7eb50fc544c45810592d6df2bba19": {
          "model_module": "@jupyter-widgets/controls",
          "model_name": "HTMLModel",
          "model_module_version": "1.5.0",
          "state": {
            "_view_name": "HTMLView",
            "style": "IPY_MODEL_72d1eafef99d4399bb9ce6a52ebea483",
            "_dom_classes": [],
            "description": "",
            "_model_name": "HTMLModel",
            "placeholder": "​",
            "_view_module": "@jupyter-widgets/controls",
            "_model_module_version": "1.5.0",
            "value": " 899k/899k [00:00&lt;00:00, 2.26MB/s]",
            "_view_count": null,
            "_view_module_version": "1.5.0",
            "description_tooltip": null,
            "_model_module": "@jupyter-widgets/controls",
            "layout": "IPY_MODEL_9a5bda5262c34bf3b1cdae3f15240d86"
          }
        },
        "01b0f326447949659dea4de2eb030f10": {
          "model_module": "@jupyter-widgets/controls",
          "model_name": "DescriptionStyleModel",
          "model_module_version": "1.5.0",
          "state": {
            "_view_name": "StyleView",
            "_model_name": "DescriptionStyleModel",
            "description_width": "",
            "_view_module": "@jupyter-widgets/base",
            "_model_module_version": "1.5.0",
            "_view_count": null,
            "_view_module_version": "1.2.0",
            "_model_module": "@jupyter-widgets/controls"
          }
        },
        "8f917d1ae0594f4f8fa54bfc52b7af28": {
          "model_module": "@jupyter-widgets/base",
          "model_name": "LayoutModel",
          "model_module_version": "1.2.0",
          "state": {
            "_view_name": "LayoutView",
            "grid_template_rows": null,
            "right": null,
            "justify_content": null,
            "_view_module": "@jupyter-widgets/base",
            "overflow": null,
            "_model_module_version": "1.2.0",
            "_view_count": null,
            "flex_flow": null,
            "width": null,
            "min_width": null,
            "border": null,
            "align_items": null,
            "bottom": null,
            "_model_module": "@jupyter-widgets/base",
            "top": null,
            "grid_column": null,
            "overflow_y": null,
            "overflow_x": null,
            "grid_auto_flow": null,
            "grid_area": null,
            "grid_template_columns": null,
            "flex": null,
            "_model_name": "LayoutModel",
            "justify_items": null,
            "grid_row": null,
            "max_height": null,
            "align_content": null,
            "visibility": null,
            "align_self": null,
            "height": null,
            "min_height": null,
            "padding": null,
            "grid_auto_rows": null,
            "grid_gap": null,
            "max_width": null,
            "order": null,
            "_view_module_version": "1.2.0",
            "grid_template_areas": null,
            "object_position": null,
            "object_fit": null,
            "grid_auto_columns": null,
            "margin": null,
            "display": null,
            "left": null
          }
        },
        "67bf9f87d33c421eb479a9131535a34a": {
          "model_module": "@jupyter-widgets/controls",
          "model_name": "ProgressStyleModel",
          "model_module_version": "1.5.0",
          "state": {
            "_view_name": "StyleView",
            "_model_name": "ProgressStyleModel",
            "description_width": "",
            "_view_module": "@jupyter-widgets/base",
            "_model_module_version": "1.5.0",
            "_view_count": null,
            "_view_module_version": "1.2.0",
            "bar_color": null,
            "_model_module": "@jupyter-widgets/controls"
          }
        },
        "bcb9e4136269482c898aade1eed25a28": {
          "model_module": "@jupyter-widgets/base",
          "model_name": "LayoutModel",
          "model_module_version": "1.2.0",
          "state": {
            "_view_name": "LayoutView",
            "grid_template_rows": null,
            "right": null,
            "justify_content": null,
            "_view_module": "@jupyter-widgets/base",
            "overflow": null,
            "_model_module_version": "1.2.0",
            "_view_count": null,
            "flex_flow": null,
            "width": null,
            "min_width": null,
            "border": null,
            "align_items": null,
            "bottom": null,
            "_model_module": "@jupyter-widgets/base",
            "top": null,
            "grid_column": null,
            "overflow_y": null,
            "overflow_x": null,
            "grid_auto_flow": null,
            "grid_area": null,
            "grid_template_columns": null,
            "flex": null,
            "_model_name": "LayoutModel",
            "justify_items": null,
            "grid_row": null,
            "max_height": null,
            "align_content": null,
            "visibility": null,
            "align_self": null,
            "height": null,
            "min_height": null,
            "padding": null,
            "grid_auto_rows": null,
            "grid_gap": null,
            "max_width": null,
            "order": null,
            "_view_module_version": "1.2.0",
            "grid_template_areas": null,
            "object_position": null,
            "object_fit": null,
            "grid_auto_columns": null,
            "margin": null,
            "display": null,
            "left": null
          }
        },
        "72d1eafef99d4399bb9ce6a52ebea483": {
          "model_module": "@jupyter-widgets/controls",
          "model_name": "DescriptionStyleModel",
          "model_module_version": "1.5.0",
          "state": {
            "_view_name": "StyleView",
            "_model_name": "DescriptionStyleModel",
            "description_width": "",
            "_view_module": "@jupyter-widgets/base",
            "_model_module_version": "1.5.0",
            "_view_count": null,
            "_view_module_version": "1.2.0",
            "_model_module": "@jupyter-widgets/controls"
          }
        },
        "9a5bda5262c34bf3b1cdae3f15240d86": {
          "model_module": "@jupyter-widgets/base",
          "model_name": "LayoutModel",
          "model_module_version": "1.2.0",
          "state": {
            "_view_name": "LayoutView",
            "grid_template_rows": null,
            "right": null,
            "justify_content": null,
            "_view_module": "@jupyter-widgets/base",
            "overflow": null,
            "_model_module_version": "1.2.0",
            "_view_count": null,
            "flex_flow": null,
            "width": null,
            "min_width": null,
            "border": null,
            "align_items": null,
            "bottom": null,
            "_model_module": "@jupyter-widgets/base",
            "top": null,
            "grid_column": null,
            "overflow_y": null,
            "overflow_x": null,
            "grid_auto_flow": null,
            "grid_area": null,
            "grid_template_columns": null,
            "flex": null,
            "_model_name": "LayoutModel",
            "justify_items": null,
            "grid_row": null,
            "max_height": null,
            "align_content": null,
            "visibility": null,
            "align_self": null,
            "height": null,
            "min_height": null,
            "padding": null,
            "grid_auto_rows": null,
            "grid_gap": null,
            "max_width": null,
            "order": null,
            "_view_module_version": "1.2.0",
            "grid_template_areas": null,
            "object_position": null,
            "object_fit": null,
            "grid_auto_columns": null,
            "margin": null,
            "display": null,
            "left": null
          }
        },
        "86ea12baf54b401a9ccbd0bb28560957": {
          "model_module": "@jupyter-widgets/controls",
          "model_name": "HBoxModel",
          "model_module_version": "1.5.0",
          "state": {
            "_view_name": "HBoxView",
            "_dom_classes": [],
            "_model_name": "HBoxModel",
            "_view_module": "@jupyter-widgets/controls",
            "_model_module_version": "1.5.0",
            "_view_count": null,
            "_view_module_version": "1.5.0",
            "box_style": "",
            "layout": "IPY_MODEL_1913521ae70146b69445abf5ec10b74e",
            "_model_module": "@jupyter-widgets/controls",
            "children": [
              "IPY_MODEL_e64c36a8287040738babac8de91d76bc",
              "IPY_MODEL_2cbc03e7501f425ba6723913c8faa2e3",
              "IPY_MODEL_a3e3e26d36a143bc8ca092dc57897c96"
            ]
          }
        },
        "1913521ae70146b69445abf5ec10b74e": {
          "model_module": "@jupyter-widgets/base",
          "model_name": "LayoutModel",
          "model_module_version": "1.2.0",
          "state": {
            "_view_name": "LayoutView",
            "grid_template_rows": null,
            "right": null,
            "justify_content": null,
            "_view_module": "@jupyter-widgets/base",
            "overflow": null,
            "_model_module_version": "1.2.0",
            "_view_count": null,
            "flex_flow": null,
            "width": null,
            "min_width": null,
            "border": null,
            "align_items": null,
            "bottom": null,
            "_model_module": "@jupyter-widgets/base",
            "top": null,
            "grid_column": null,
            "overflow_y": null,
            "overflow_x": null,
            "grid_auto_flow": null,
            "grid_area": null,
            "grid_template_columns": null,
            "flex": null,
            "_model_name": "LayoutModel",
            "justify_items": null,
            "grid_row": null,
            "max_height": null,
            "align_content": null,
            "visibility": null,
            "align_self": null,
            "height": null,
            "min_height": null,
            "padding": null,
            "grid_auto_rows": null,
            "grid_gap": null,
            "max_width": null,
            "order": null,
            "_view_module_version": "1.2.0",
            "grid_template_areas": null,
            "object_position": null,
            "object_fit": null,
            "grid_auto_columns": null,
            "margin": null,
            "display": null,
            "left": null
          }
        },
        "e64c36a8287040738babac8de91d76bc": {
          "model_module": "@jupyter-widgets/controls",
          "model_name": "HTMLModel",
          "model_module_version": "1.5.0",
          "state": {
            "_view_name": "HTMLView",
            "style": "IPY_MODEL_3b379318394c459bac6768c7af946e38",
            "_dom_classes": [],
            "description": "",
            "_model_name": "HTMLModel",
            "placeholder": "​",
            "_view_module": "@jupyter-widgets/controls",
            "_model_module_version": "1.5.0",
            "value": "Downloading: 100%",
            "_view_count": null,
            "_view_module_version": "1.5.0",
            "description_tooltip": null,
            "_model_module": "@jupyter-widgets/controls",
            "layout": "IPY_MODEL_0cd5a3d03d8b4e8cb579806b9d6fcaf7"
          }
        },
        "2cbc03e7501f425ba6723913c8faa2e3": {
          "model_module": "@jupyter-widgets/controls",
          "model_name": "FloatProgressModel",
          "model_module_version": "1.5.0",
          "state": {
            "_view_name": "ProgressView",
            "style": "IPY_MODEL_9425a721456a496b91b49896d6c6a0ed",
            "_dom_classes": [],
            "description": "",
            "_model_name": "FloatProgressModel",
            "bar_style": "success",
            "max": 456318,
            "_view_module": "@jupyter-widgets/controls",
            "_model_module_version": "1.5.0",
            "value": 456318,
            "_view_count": null,
            "_view_module_version": "1.5.0",
            "orientation": "horizontal",
            "min": 0,
            "description_tooltip": null,
            "_model_module": "@jupyter-widgets/controls",
            "layout": "IPY_MODEL_9d178a5045c348628beb1dcdadf7adb2"
          }
        },
        "a3e3e26d36a143bc8ca092dc57897c96": {
          "model_module": "@jupyter-widgets/controls",
          "model_name": "HTMLModel",
          "model_module_version": "1.5.0",
          "state": {
            "_view_name": "HTMLView",
            "style": "IPY_MODEL_5366038d31354ed4b84adfc2a2a91edc",
            "_dom_classes": [],
            "description": "",
            "_model_name": "HTMLModel",
            "placeholder": "​",
            "_view_module": "@jupyter-widgets/controls",
            "_model_module_version": "1.5.0",
            "value": " 456k/456k [00:00&lt;00:00, 566kB/s]",
            "_view_count": null,
            "_view_module_version": "1.5.0",
            "description_tooltip": null,
            "_model_module": "@jupyter-widgets/controls",
            "layout": "IPY_MODEL_8b511985fa35415d894dccaa009d55df"
          }
        },
        "3b379318394c459bac6768c7af946e38": {
          "model_module": "@jupyter-widgets/controls",
          "model_name": "DescriptionStyleModel",
          "model_module_version": "1.5.0",
          "state": {
            "_view_name": "StyleView",
            "_model_name": "DescriptionStyleModel",
            "description_width": "",
            "_view_module": "@jupyter-widgets/base",
            "_model_module_version": "1.5.0",
            "_view_count": null,
            "_view_module_version": "1.2.0",
            "_model_module": "@jupyter-widgets/controls"
          }
        },
        "0cd5a3d03d8b4e8cb579806b9d6fcaf7": {
          "model_module": "@jupyter-widgets/base",
          "model_name": "LayoutModel",
          "model_module_version": "1.2.0",
          "state": {
            "_view_name": "LayoutView",
            "grid_template_rows": null,
            "right": null,
            "justify_content": null,
            "_view_module": "@jupyter-widgets/base",
            "overflow": null,
            "_model_module_version": "1.2.0",
            "_view_count": null,
            "flex_flow": null,
            "width": null,
            "min_width": null,
            "border": null,
            "align_items": null,
            "bottom": null,
            "_model_module": "@jupyter-widgets/base",
            "top": null,
            "grid_column": null,
            "overflow_y": null,
            "overflow_x": null,
            "grid_auto_flow": null,
            "grid_area": null,
            "grid_template_columns": null,
            "flex": null,
            "_model_name": "LayoutModel",
            "justify_items": null,
            "grid_row": null,
            "max_height": null,
            "align_content": null,
            "visibility": null,
            "align_self": null,
            "height": null,
            "min_height": null,
            "padding": null,
            "grid_auto_rows": null,
            "grid_gap": null,
            "max_width": null,
            "order": null,
            "_view_module_version": "1.2.0",
            "grid_template_areas": null,
            "object_position": null,
            "object_fit": null,
            "grid_auto_columns": null,
            "margin": null,
            "display": null,
            "left": null
          }
        },
        "9425a721456a496b91b49896d6c6a0ed": {
          "model_module": "@jupyter-widgets/controls",
          "model_name": "ProgressStyleModel",
          "model_module_version": "1.5.0",
          "state": {
            "_view_name": "StyleView",
            "_model_name": "ProgressStyleModel",
            "description_width": "",
            "_view_module": "@jupyter-widgets/base",
            "_model_module_version": "1.5.0",
            "_view_count": null,
            "_view_module_version": "1.2.0",
            "bar_color": null,
            "_model_module": "@jupyter-widgets/controls"
          }
        },
        "9d178a5045c348628beb1dcdadf7adb2": {
          "model_module": "@jupyter-widgets/base",
          "model_name": "LayoutModel",
          "model_module_version": "1.2.0",
          "state": {
            "_view_name": "LayoutView",
            "grid_template_rows": null,
            "right": null,
            "justify_content": null,
            "_view_module": "@jupyter-widgets/base",
            "overflow": null,
            "_model_module_version": "1.2.0",
            "_view_count": null,
            "flex_flow": null,
            "width": null,
            "min_width": null,
            "border": null,
            "align_items": null,
            "bottom": null,
            "_model_module": "@jupyter-widgets/base",
            "top": null,
            "grid_column": null,
            "overflow_y": null,
            "overflow_x": null,
            "grid_auto_flow": null,
            "grid_area": null,
            "grid_template_columns": null,
            "flex": null,
            "_model_name": "LayoutModel",
            "justify_items": null,
            "grid_row": null,
            "max_height": null,
            "align_content": null,
            "visibility": null,
            "align_self": null,
            "height": null,
            "min_height": null,
            "padding": null,
            "grid_auto_rows": null,
            "grid_gap": null,
            "max_width": null,
            "order": null,
            "_view_module_version": "1.2.0",
            "grid_template_areas": null,
            "object_position": null,
            "object_fit": null,
            "grid_auto_columns": null,
            "margin": null,
            "display": null,
            "left": null
          }
        },
        "5366038d31354ed4b84adfc2a2a91edc": {
          "model_module": "@jupyter-widgets/controls",
          "model_name": "DescriptionStyleModel",
          "model_module_version": "1.5.0",
          "state": {
            "_view_name": "StyleView",
            "_model_name": "DescriptionStyleModel",
            "description_width": "",
            "_view_module": "@jupyter-widgets/base",
            "_model_module_version": "1.5.0",
            "_view_count": null,
            "_view_module_version": "1.2.0",
            "_model_module": "@jupyter-widgets/controls"
          }
        },
        "8b511985fa35415d894dccaa009d55df": {
          "model_module": "@jupyter-widgets/base",
          "model_name": "LayoutModel",
          "model_module_version": "1.2.0",
          "state": {
            "_view_name": "LayoutView",
            "grid_template_rows": null,
            "right": null,
            "justify_content": null,
            "_view_module": "@jupyter-widgets/base",
            "overflow": null,
            "_model_module_version": "1.2.0",
            "_view_count": null,
            "flex_flow": null,
            "width": null,
            "min_width": null,
            "border": null,
            "align_items": null,
            "bottom": null,
            "_model_module": "@jupyter-widgets/base",
            "top": null,
            "grid_column": null,
            "overflow_y": null,
            "overflow_x": null,
            "grid_auto_flow": null,
            "grid_area": null,
            "grid_template_columns": null,
            "flex": null,
            "_model_name": "LayoutModel",
            "justify_items": null,
            "grid_row": null,
            "max_height": null,
            "align_content": null,
            "visibility": null,
            "align_self": null,
            "height": null,
            "min_height": null,
            "padding": null,
            "grid_auto_rows": null,
            "grid_gap": null,
            "max_width": null,
            "order": null,
            "_view_module_version": "1.2.0",
            "grid_template_areas": null,
            "object_position": null,
            "object_fit": null,
            "grid_auto_columns": null,
            "margin": null,
            "display": null,
            "left": null
          }
        },
        "78945def06e04fb5a8f237fa322161ca": {
          "model_module": "@jupyter-widgets/controls",
          "model_name": "HBoxModel",
          "model_module_version": "1.5.0",
          "state": {
            "_view_name": "HBoxView",
            "_dom_classes": [],
            "_model_name": "HBoxModel",
            "_view_module": "@jupyter-widgets/controls",
            "_model_module_version": "1.5.0",
            "_view_count": null,
            "_view_module_version": "1.5.0",
            "box_style": "",
            "layout": "IPY_MODEL_b53bfb8ab7f44a70957322745f8a2a5f",
            "_model_module": "@jupyter-widgets/controls",
            "children": [
              "IPY_MODEL_e78fde22cce04b1cab5d5711e86d546a",
              "IPY_MODEL_eb41aeb4d8a34ca8bba7ee835ca16ef1",
              "IPY_MODEL_d6b3e4239e7541ff8e675c3df0b72acb"
            ]
          }
        },
        "b53bfb8ab7f44a70957322745f8a2a5f": {
          "model_module": "@jupyter-widgets/base",
          "model_name": "LayoutModel",
          "model_module_version": "1.2.0",
          "state": {
            "_view_name": "LayoutView",
            "grid_template_rows": null,
            "right": null,
            "justify_content": null,
            "_view_module": "@jupyter-widgets/base",
            "overflow": null,
            "_model_module_version": "1.2.0",
            "_view_count": null,
            "flex_flow": null,
            "width": null,
            "min_width": null,
            "border": null,
            "align_items": null,
            "bottom": null,
            "_model_module": "@jupyter-widgets/base",
            "top": null,
            "grid_column": null,
            "overflow_y": null,
            "overflow_x": null,
            "grid_auto_flow": null,
            "grid_area": null,
            "grid_template_columns": null,
            "flex": null,
            "_model_name": "LayoutModel",
            "justify_items": null,
            "grid_row": null,
            "max_height": null,
            "align_content": null,
            "visibility": null,
            "align_self": null,
            "height": null,
            "min_height": null,
            "padding": null,
            "grid_auto_rows": null,
            "grid_gap": null,
            "max_width": null,
            "order": null,
            "_view_module_version": "1.2.0",
            "grid_template_areas": null,
            "object_position": null,
            "object_fit": null,
            "grid_auto_columns": null,
            "margin": null,
            "display": null,
            "left": null
          }
        },
        "e78fde22cce04b1cab5d5711e86d546a": {
          "model_module": "@jupyter-widgets/controls",
          "model_name": "HTMLModel",
          "model_module_version": "1.5.0",
          "state": {
            "_view_name": "HTMLView",
            "style": "IPY_MODEL_623731d645a34eebb89d4e6397dde4ed",
            "_dom_classes": [],
            "description": "",
            "_model_name": "HTMLModel",
            "placeholder": "​",
            "_view_module": "@jupyter-widgets/controls",
            "_model_module_version": "1.5.0",
            "value": "Downloading: 100%",
            "_view_count": null,
            "_view_module_version": "1.5.0",
            "description_tooltip": null,
            "_model_module": "@jupyter-widgets/controls",
            "layout": "IPY_MODEL_753365e952184f029d85d0d4ded692b1"
          }
        },
        "eb41aeb4d8a34ca8bba7ee835ca16ef1": {
          "model_module": "@jupyter-widgets/controls",
          "model_name": "FloatProgressModel",
          "model_module_version": "1.5.0",
          "state": {
            "_view_name": "ProgressView",
            "style": "IPY_MODEL_58edce97a0cf4cda895231750a6e3886",
            "_dom_classes": [],
            "description": "",
            "_model_name": "FloatProgressModel",
            "bar_style": "success",
            "max": 1355863,
            "_view_module": "@jupyter-widgets/controls",
            "_model_module_version": "1.5.0",
            "value": 1355863,
            "_view_count": null,
            "_view_module_version": "1.5.0",
            "orientation": "horizontal",
            "min": 0,
            "description_tooltip": null,
            "_model_module": "@jupyter-widgets/controls",
            "layout": "IPY_MODEL_752c2d08e72d40b0978c57bb22acac11"
          }
        },
        "d6b3e4239e7541ff8e675c3df0b72acb": {
          "model_module": "@jupyter-widgets/controls",
          "model_name": "HTMLModel",
          "model_module_version": "1.5.0",
          "state": {
            "_view_name": "HTMLView",
            "style": "IPY_MODEL_1412a74f367e4b3191e76abdb83e2b17",
            "_dom_classes": [],
            "description": "",
            "_model_name": "HTMLModel",
            "placeholder": "​",
            "_view_module": "@jupyter-widgets/controls",
            "_model_module_version": "1.5.0",
            "value": " 1.36M/1.36M [00:00&lt;00:00, 3.32MB/s]",
            "_view_count": null,
            "_view_module_version": "1.5.0",
            "description_tooltip": null,
            "_model_module": "@jupyter-widgets/controls",
            "layout": "IPY_MODEL_b2ab7d9c1a824af3b781c2fbec5f36ed"
          }
        },
        "623731d645a34eebb89d4e6397dde4ed": {
          "model_module": "@jupyter-widgets/controls",
          "model_name": "DescriptionStyleModel",
          "model_module_version": "1.5.0",
          "state": {
            "_view_name": "StyleView",
            "_model_name": "DescriptionStyleModel",
            "description_width": "",
            "_view_module": "@jupyter-widgets/base",
            "_model_module_version": "1.5.0",
            "_view_count": null,
            "_view_module_version": "1.2.0",
            "_model_module": "@jupyter-widgets/controls"
          }
        },
        "753365e952184f029d85d0d4ded692b1": {
          "model_module": "@jupyter-widgets/base",
          "model_name": "LayoutModel",
          "model_module_version": "1.2.0",
          "state": {
            "_view_name": "LayoutView",
            "grid_template_rows": null,
            "right": null,
            "justify_content": null,
            "_view_module": "@jupyter-widgets/base",
            "overflow": null,
            "_model_module_version": "1.2.0",
            "_view_count": null,
            "flex_flow": null,
            "width": null,
            "min_width": null,
            "border": null,
            "align_items": null,
            "bottom": null,
            "_model_module": "@jupyter-widgets/base",
            "top": null,
            "grid_column": null,
            "overflow_y": null,
            "overflow_x": null,
            "grid_auto_flow": null,
            "grid_area": null,
            "grid_template_columns": null,
            "flex": null,
            "_model_name": "LayoutModel",
            "justify_items": null,
            "grid_row": null,
            "max_height": null,
            "align_content": null,
            "visibility": null,
            "align_self": null,
            "height": null,
            "min_height": null,
            "padding": null,
            "grid_auto_rows": null,
            "grid_gap": null,
            "max_width": null,
            "order": null,
            "_view_module_version": "1.2.0",
            "grid_template_areas": null,
            "object_position": null,
            "object_fit": null,
            "grid_auto_columns": null,
            "margin": null,
            "display": null,
            "left": null
          }
        },
        "58edce97a0cf4cda895231750a6e3886": {
          "model_module": "@jupyter-widgets/controls",
          "model_name": "ProgressStyleModel",
          "model_module_version": "1.5.0",
          "state": {
            "_view_name": "StyleView",
            "_model_name": "ProgressStyleModel",
            "description_width": "",
            "_view_module": "@jupyter-widgets/base",
            "_model_module_version": "1.5.0",
            "_view_count": null,
            "_view_module_version": "1.2.0",
            "bar_color": null,
            "_model_module": "@jupyter-widgets/controls"
          }
        },
        "752c2d08e72d40b0978c57bb22acac11": {
          "model_module": "@jupyter-widgets/base",
          "model_name": "LayoutModel",
          "model_module_version": "1.2.0",
          "state": {
            "_view_name": "LayoutView",
            "grid_template_rows": null,
            "right": null,
            "justify_content": null,
            "_view_module": "@jupyter-widgets/base",
            "overflow": null,
            "_model_module_version": "1.2.0",
            "_view_count": null,
            "flex_flow": null,
            "width": null,
            "min_width": null,
            "border": null,
            "align_items": null,
            "bottom": null,
            "_model_module": "@jupyter-widgets/base",
            "top": null,
            "grid_column": null,
            "overflow_y": null,
            "overflow_x": null,
            "grid_auto_flow": null,
            "grid_area": null,
            "grid_template_columns": null,
            "flex": null,
            "_model_name": "LayoutModel",
            "justify_items": null,
            "grid_row": null,
            "max_height": null,
            "align_content": null,
            "visibility": null,
            "align_self": null,
            "height": null,
            "min_height": null,
            "padding": null,
            "grid_auto_rows": null,
            "grid_gap": null,
            "max_width": null,
            "order": null,
            "_view_module_version": "1.2.0",
            "grid_template_areas": null,
            "object_position": null,
            "object_fit": null,
            "grid_auto_columns": null,
            "margin": null,
            "display": null,
            "left": null
          }
        },
        "1412a74f367e4b3191e76abdb83e2b17": {
          "model_module": "@jupyter-widgets/controls",
          "model_name": "DescriptionStyleModel",
          "model_module_version": "1.5.0",
          "state": {
            "_view_name": "StyleView",
            "_model_name": "DescriptionStyleModel",
            "description_width": "",
            "_view_module": "@jupyter-widgets/base",
            "_model_module_version": "1.5.0",
            "_view_count": null,
            "_view_module_version": "1.2.0",
            "_model_module": "@jupyter-widgets/controls"
          }
        },
        "b2ab7d9c1a824af3b781c2fbec5f36ed": {
          "model_module": "@jupyter-widgets/base",
          "model_name": "LayoutModel",
          "model_module_version": "1.2.0",
          "state": {
            "_view_name": "LayoutView",
            "grid_template_rows": null,
            "right": null,
            "justify_content": null,
            "_view_module": "@jupyter-widgets/base",
            "overflow": null,
            "_model_module_version": "1.2.0",
            "_view_count": null,
            "flex_flow": null,
            "width": null,
            "min_width": null,
            "border": null,
            "align_items": null,
            "bottom": null,
            "_model_module": "@jupyter-widgets/base",
            "top": null,
            "grid_column": null,
            "overflow_y": null,
            "overflow_x": null,
            "grid_auto_flow": null,
            "grid_area": null,
            "grid_template_columns": null,
            "flex": null,
            "_model_name": "LayoutModel",
            "justify_items": null,
            "grid_row": null,
            "max_height": null,
            "align_content": null,
            "visibility": null,
            "align_self": null,
            "height": null,
            "min_height": null,
            "padding": null,
            "grid_auto_rows": null,
            "grid_gap": null,
            "max_width": null,
            "order": null,
            "_view_module_version": "1.2.0",
            "grid_template_areas": null,
            "object_position": null,
            "object_fit": null,
            "grid_auto_columns": null,
            "margin": null,
            "display": null,
            "left": null
          }
        },
        "3438307fdcd5484ca7ef9ad4a123c751": {
          "model_module": "@jupyter-widgets/controls",
          "model_name": "HBoxModel",
          "model_module_version": "1.5.0",
          "state": {
            "_view_name": "HBoxView",
            "_dom_classes": [],
            "_model_name": "HBoxModel",
            "_view_module": "@jupyter-widgets/controls",
            "_model_module_version": "1.5.0",
            "_view_count": null,
            "_view_module_version": "1.5.0",
            "box_style": "",
            "layout": "IPY_MODEL_ec4ada77fcc64ce287efa9a83bdde41c",
            "_model_module": "@jupyter-widgets/controls",
            "children": [
              "IPY_MODEL_182e34ebbcf8446299ac97741b339e74",
              "IPY_MODEL_a3893b0900284f49bee795d9ef0fac2f",
              "IPY_MODEL_8aeefeae2f32424c99dbecde2deecaf9"
            ]
          }
        },
        "ec4ada77fcc64ce287efa9a83bdde41c": {
          "model_module": "@jupyter-widgets/base",
          "model_name": "LayoutModel",
          "model_module_version": "1.2.0",
          "state": {
            "_view_name": "LayoutView",
            "grid_template_rows": null,
            "right": null,
            "justify_content": null,
            "_view_module": "@jupyter-widgets/base",
            "overflow": null,
            "_model_module_version": "1.2.0",
            "_view_count": null,
            "flex_flow": null,
            "width": null,
            "min_width": null,
            "border": null,
            "align_items": null,
            "bottom": null,
            "_model_module": "@jupyter-widgets/base",
            "top": null,
            "grid_column": null,
            "overflow_y": null,
            "overflow_x": null,
            "grid_auto_flow": null,
            "grid_area": null,
            "grid_template_columns": null,
            "flex": null,
            "_model_name": "LayoutModel",
            "justify_items": null,
            "grid_row": null,
            "max_height": null,
            "align_content": null,
            "visibility": null,
            "align_self": null,
            "height": null,
            "min_height": null,
            "padding": null,
            "grid_auto_rows": null,
            "grid_gap": null,
            "max_width": null,
            "order": null,
            "_view_module_version": "1.2.0",
            "grid_template_areas": null,
            "object_position": null,
            "object_fit": null,
            "grid_auto_columns": null,
            "margin": null,
            "display": null,
            "left": null
          }
        },
        "182e34ebbcf8446299ac97741b339e74": {
          "model_module": "@jupyter-widgets/controls",
          "model_name": "HTMLModel",
          "model_module_version": "1.5.0",
          "state": {
            "_view_name": "HTMLView",
            "style": "IPY_MODEL_48a3abd1fc374492b9bac8e7b523a0ad",
            "_dom_classes": [],
            "description": "",
            "_model_name": "HTMLModel",
            "placeholder": "​",
            "_view_module": "@jupyter-widgets/controls",
            "_model_module_version": "1.5.0",
            "value": "Downloading: 100%",
            "_view_count": null,
            "_view_module_version": "1.5.0",
            "description_tooltip": null,
            "_model_module": "@jupyter-widgets/controls",
            "layout": "IPY_MODEL_401a4df91310415fbab4488c835fdabb"
          }
        },
        "a3893b0900284f49bee795d9ef0fac2f": {
          "model_module": "@jupyter-widgets/controls",
          "model_name": "FloatProgressModel",
          "model_module_version": "1.5.0",
          "state": {
            "_view_name": "ProgressView",
            "style": "IPY_MODEL_36e64ce722e34de09a5984478234449d",
            "_dom_classes": [],
            "description": "",
            "_model_name": "FloatProgressModel",
            "bar_style": "success",
            "max": 481,
            "_view_module": "@jupyter-widgets/controls",
            "_model_module_version": "1.5.0",
            "value": 481,
            "_view_count": null,
            "_view_module_version": "1.5.0",
            "orientation": "horizontal",
            "min": 0,
            "description_tooltip": null,
            "_model_module": "@jupyter-widgets/controls",
            "layout": "IPY_MODEL_1e015dcc45f44729b4a48e206e04e16e"
          }
        },
        "8aeefeae2f32424c99dbecde2deecaf9": {
          "model_module": "@jupyter-widgets/controls",
          "model_name": "HTMLModel",
          "model_module_version": "1.5.0",
          "state": {
            "_view_name": "HTMLView",
            "style": "IPY_MODEL_5577901f6ad6400f861d78f00bbd33f2",
            "_dom_classes": [],
            "description": "",
            "_model_name": "HTMLModel",
            "placeholder": "​",
            "_view_module": "@jupyter-widgets/controls",
            "_model_module_version": "1.5.0",
            "value": " 481/481 [00:00&lt;00:00, 11.0kB/s]",
            "_view_count": null,
            "_view_module_version": "1.5.0",
            "description_tooltip": null,
            "_model_module": "@jupyter-widgets/controls",
            "layout": "IPY_MODEL_790bf22770b54aa4b5aff262eab9edfa"
          }
        },
        "48a3abd1fc374492b9bac8e7b523a0ad": {
          "model_module": "@jupyter-widgets/controls",
          "model_name": "DescriptionStyleModel",
          "model_module_version": "1.5.0",
          "state": {
            "_view_name": "StyleView",
            "_model_name": "DescriptionStyleModel",
            "description_width": "",
            "_view_module": "@jupyter-widgets/base",
            "_model_module_version": "1.5.0",
            "_view_count": null,
            "_view_module_version": "1.2.0",
            "_model_module": "@jupyter-widgets/controls"
          }
        },
        "401a4df91310415fbab4488c835fdabb": {
          "model_module": "@jupyter-widgets/base",
          "model_name": "LayoutModel",
          "model_module_version": "1.2.0",
          "state": {
            "_view_name": "LayoutView",
            "grid_template_rows": null,
            "right": null,
            "justify_content": null,
            "_view_module": "@jupyter-widgets/base",
            "overflow": null,
            "_model_module_version": "1.2.0",
            "_view_count": null,
            "flex_flow": null,
            "width": null,
            "min_width": null,
            "border": null,
            "align_items": null,
            "bottom": null,
            "_model_module": "@jupyter-widgets/base",
            "top": null,
            "grid_column": null,
            "overflow_y": null,
            "overflow_x": null,
            "grid_auto_flow": null,
            "grid_area": null,
            "grid_template_columns": null,
            "flex": null,
            "_model_name": "LayoutModel",
            "justify_items": null,
            "grid_row": null,
            "max_height": null,
            "align_content": null,
            "visibility": null,
            "align_self": null,
            "height": null,
            "min_height": null,
            "padding": null,
            "grid_auto_rows": null,
            "grid_gap": null,
            "max_width": null,
            "order": null,
            "_view_module_version": "1.2.0",
            "grid_template_areas": null,
            "object_position": null,
            "object_fit": null,
            "grid_auto_columns": null,
            "margin": null,
            "display": null,
            "left": null
          }
        },
        "36e64ce722e34de09a5984478234449d": {
          "model_module": "@jupyter-widgets/controls",
          "model_name": "ProgressStyleModel",
          "model_module_version": "1.5.0",
          "state": {
            "_view_name": "StyleView",
            "_model_name": "ProgressStyleModel",
            "description_width": "",
            "_view_module": "@jupyter-widgets/base",
            "_model_module_version": "1.5.0",
            "_view_count": null,
            "_view_module_version": "1.2.0",
            "bar_color": null,
            "_model_module": "@jupyter-widgets/controls"
          }
        },
        "1e015dcc45f44729b4a48e206e04e16e": {
          "model_module": "@jupyter-widgets/base",
          "model_name": "LayoutModel",
          "model_module_version": "1.2.0",
          "state": {
            "_view_name": "LayoutView",
            "grid_template_rows": null,
            "right": null,
            "justify_content": null,
            "_view_module": "@jupyter-widgets/base",
            "overflow": null,
            "_model_module_version": "1.2.0",
            "_view_count": null,
            "flex_flow": null,
            "width": null,
            "min_width": null,
            "border": null,
            "align_items": null,
            "bottom": null,
            "_model_module": "@jupyter-widgets/base",
            "top": null,
            "grid_column": null,
            "overflow_y": null,
            "overflow_x": null,
            "grid_auto_flow": null,
            "grid_area": null,
            "grid_template_columns": null,
            "flex": null,
            "_model_name": "LayoutModel",
            "justify_items": null,
            "grid_row": null,
            "max_height": null,
            "align_content": null,
            "visibility": null,
            "align_self": null,
            "height": null,
            "min_height": null,
            "padding": null,
            "grid_auto_rows": null,
            "grid_gap": null,
            "max_width": null,
            "order": null,
            "_view_module_version": "1.2.0",
            "grid_template_areas": null,
            "object_position": null,
            "object_fit": null,
            "grid_auto_columns": null,
            "margin": null,
            "display": null,
            "left": null
          }
        },
        "5577901f6ad6400f861d78f00bbd33f2": {
          "model_module": "@jupyter-widgets/controls",
          "model_name": "DescriptionStyleModel",
          "model_module_version": "1.5.0",
          "state": {
            "_view_name": "StyleView",
            "_model_name": "DescriptionStyleModel",
            "description_width": "",
            "_view_module": "@jupyter-widgets/base",
            "_model_module_version": "1.5.0",
            "_view_count": null,
            "_view_module_version": "1.2.0",
            "_model_module": "@jupyter-widgets/controls"
          }
        },
        "790bf22770b54aa4b5aff262eab9edfa": {
          "model_module": "@jupyter-widgets/base",
          "model_name": "LayoutModel",
          "model_module_version": "1.2.0",
          "state": {
            "_view_name": "LayoutView",
            "grid_template_rows": null,
            "right": null,
            "justify_content": null,
            "_view_module": "@jupyter-widgets/base",
            "overflow": null,
            "_model_module_version": "1.2.0",
            "_view_count": null,
            "flex_flow": null,
            "width": null,
            "min_width": null,
            "border": null,
            "align_items": null,
            "bottom": null,
            "_model_module": "@jupyter-widgets/base",
            "top": null,
            "grid_column": null,
            "overflow_y": null,
            "overflow_x": null,
            "grid_auto_flow": null,
            "grid_area": null,
            "grid_template_columns": null,
            "flex": null,
            "_model_name": "LayoutModel",
            "justify_items": null,
            "grid_row": null,
            "max_height": null,
            "align_content": null,
            "visibility": null,
            "align_self": null,
            "height": null,
            "min_height": null,
            "padding": null,
            "grid_auto_rows": null,
            "grid_gap": null,
            "max_width": null,
            "order": null,
            "_view_module_version": "1.2.0",
            "grid_template_areas": null,
            "object_position": null,
            "object_fit": null,
            "grid_auto_columns": null,
            "margin": null,
            "display": null,
            "left": null
          }
        },
        "33c6e86895ab438ab19f4e1b90a4d63f": {
          "model_module": "@jupyter-widgets/controls",
          "model_name": "HBoxModel",
          "model_module_version": "1.5.0",
          "state": {
            "_view_name": "HBoxView",
            "_dom_classes": [],
            "_model_name": "HBoxModel",
            "_view_module": "@jupyter-widgets/controls",
            "_model_module_version": "1.5.0",
            "_view_count": null,
            "_view_module_version": "1.5.0",
            "box_style": "",
            "layout": "IPY_MODEL_d185ddfb8e56491b9078a2e407502e02",
            "_model_module": "@jupyter-widgets/controls",
            "children": [
              "IPY_MODEL_d28700115ab14ecfa1738901ff17b843",
              "IPY_MODEL_246ce54422354f77971d4d58e25c36a9",
              "IPY_MODEL_cd1fc97e95ff4924a773f77deaee1a90"
            ]
          }
        },
        "d185ddfb8e56491b9078a2e407502e02": {
          "model_module": "@jupyter-widgets/base",
          "model_name": "LayoutModel",
          "model_module_version": "1.2.0",
          "state": {
            "_view_name": "LayoutView",
            "grid_template_rows": null,
            "right": null,
            "justify_content": null,
            "_view_module": "@jupyter-widgets/base",
            "overflow": null,
            "_model_module_version": "1.2.0",
            "_view_count": null,
            "flex_flow": null,
            "width": null,
            "min_width": null,
            "border": null,
            "align_items": null,
            "bottom": null,
            "_model_module": "@jupyter-widgets/base",
            "top": null,
            "grid_column": null,
            "overflow_y": null,
            "overflow_x": null,
            "grid_auto_flow": null,
            "grid_area": null,
            "grid_template_columns": null,
            "flex": null,
            "_model_name": "LayoutModel",
            "justify_items": null,
            "grid_row": null,
            "max_height": null,
            "align_content": null,
            "visibility": null,
            "align_self": null,
            "height": null,
            "min_height": null,
            "padding": null,
            "grid_auto_rows": null,
            "grid_gap": null,
            "max_width": null,
            "order": null,
            "_view_module_version": "1.2.0",
            "grid_template_areas": null,
            "object_position": null,
            "object_fit": null,
            "grid_auto_columns": null,
            "margin": null,
            "display": null,
            "left": null
          }
        },
        "d28700115ab14ecfa1738901ff17b843": {
          "model_module": "@jupyter-widgets/controls",
          "model_name": "HTMLModel",
          "model_module_version": "1.5.0",
          "state": {
            "_view_name": "HTMLView",
            "style": "IPY_MODEL_8eb7702cef814585a580a2ec874b72b6",
            "_dom_classes": [],
            "description": "",
            "_model_name": "HTMLModel",
            "placeholder": "​",
            "_view_module": "@jupyter-widgets/controls",
            "_model_module_version": "1.5.0",
            "value": "Downloading: 100%",
            "_view_count": null,
            "_view_module_version": "1.5.0",
            "description_tooltip": null,
            "_model_module": "@jupyter-widgets/controls",
            "layout": "IPY_MODEL_01aea06634e24b8681edd334eaec47bf"
          }
        },
        "246ce54422354f77971d4d58e25c36a9": {
          "model_module": "@jupyter-widgets/controls",
          "model_name": "FloatProgressModel",
          "model_module_version": "1.5.0",
          "state": {
            "_view_name": "ProgressView",
            "style": "IPY_MODEL_9cd0e25321fd46f8a7c78bab6bf50100",
            "_dom_classes": [],
            "description": "",
            "_model_name": "FloatProgressModel",
            "bar_style": "success",
            "max": 501200538,
            "_view_module": "@jupyter-widgets/controls",
            "_model_module_version": "1.5.0",
            "value": 501200538,
            "_view_count": null,
            "_view_module_version": "1.5.0",
            "orientation": "horizontal",
            "min": 0,
            "description_tooltip": null,
            "_model_module": "@jupyter-widgets/controls",
            "layout": "IPY_MODEL_a47e3aa49f2a4b698e4a3f555c372c7b"
          }
        },
        "cd1fc97e95ff4924a773f77deaee1a90": {
          "model_module": "@jupyter-widgets/controls",
          "model_name": "HTMLModel",
          "model_module_version": "1.5.0",
          "state": {
            "_view_name": "HTMLView",
            "style": "IPY_MODEL_6f59681340b64a2392289459b3d16d7e",
            "_dom_classes": [],
            "description": "",
            "_model_name": "HTMLModel",
            "placeholder": "​",
            "_view_module": "@jupyter-widgets/controls",
            "_model_module_version": "1.5.0",
            "value": " 501M/501M [00:14&lt;00:00, 34.5MB/s]",
            "_view_count": null,
            "_view_module_version": "1.5.0",
            "description_tooltip": null,
            "_model_module": "@jupyter-widgets/controls",
            "layout": "IPY_MODEL_0a5e33a5257b4653b91b5afa4bc86197"
          }
        },
        "8eb7702cef814585a580a2ec874b72b6": {
          "model_module": "@jupyter-widgets/controls",
          "model_name": "DescriptionStyleModel",
          "model_module_version": "1.5.0",
          "state": {
            "_view_name": "StyleView",
            "_model_name": "DescriptionStyleModel",
            "description_width": "",
            "_view_module": "@jupyter-widgets/base",
            "_model_module_version": "1.5.0",
            "_view_count": null,
            "_view_module_version": "1.2.0",
            "_model_module": "@jupyter-widgets/controls"
          }
        },
        "01aea06634e24b8681edd334eaec47bf": {
          "model_module": "@jupyter-widgets/base",
          "model_name": "LayoutModel",
          "model_module_version": "1.2.0",
          "state": {
            "_view_name": "LayoutView",
            "grid_template_rows": null,
            "right": null,
            "justify_content": null,
            "_view_module": "@jupyter-widgets/base",
            "overflow": null,
            "_model_module_version": "1.2.0",
            "_view_count": null,
            "flex_flow": null,
            "width": null,
            "min_width": null,
            "border": null,
            "align_items": null,
            "bottom": null,
            "_model_module": "@jupyter-widgets/base",
            "top": null,
            "grid_column": null,
            "overflow_y": null,
            "overflow_x": null,
            "grid_auto_flow": null,
            "grid_area": null,
            "grid_template_columns": null,
            "flex": null,
            "_model_name": "LayoutModel",
            "justify_items": null,
            "grid_row": null,
            "max_height": null,
            "align_content": null,
            "visibility": null,
            "align_self": null,
            "height": null,
            "min_height": null,
            "padding": null,
            "grid_auto_rows": null,
            "grid_gap": null,
            "max_width": null,
            "order": null,
            "_view_module_version": "1.2.0",
            "grid_template_areas": null,
            "object_position": null,
            "object_fit": null,
            "grid_auto_columns": null,
            "margin": null,
            "display": null,
            "left": null
          }
        },
        "9cd0e25321fd46f8a7c78bab6bf50100": {
          "model_module": "@jupyter-widgets/controls",
          "model_name": "ProgressStyleModel",
          "model_module_version": "1.5.0",
          "state": {
            "_view_name": "StyleView",
            "_model_name": "ProgressStyleModel",
            "description_width": "",
            "_view_module": "@jupyter-widgets/base",
            "_model_module_version": "1.5.0",
            "_view_count": null,
            "_view_module_version": "1.2.0",
            "bar_color": null,
            "_model_module": "@jupyter-widgets/controls"
          }
        },
        "a47e3aa49f2a4b698e4a3f555c372c7b": {
          "model_module": "@jupyter-widgets/base",
          "model_name": "LayoutModel",
          "model_module_version": "1.2.0",
          "state": {
            "_view_name": "LayoutView",
            "grid_template_rows": null,
            "right": null,
            "justify_content": null,
            "_view_module": "@jupyter-widgets/base",
            "overflow": null,
            "_model_module_version": "1.2.0",
            "_view_count": null,
            "flex_flow": null,
            "width": null,
            "min_width": null,
            "border": null,
            "align_items": null,
            "bottom": null,
            "_model_module": "@jupyter-widgets/base",
            "top": null,
            "grid_column": null,
            "overflow_y": null,
            "overflow_x": null,
            "grid_auto_flow": null,
            "grid_area": null,
            "grid_template_columns": null,
            "flex": null,
            "_model_name": "LayoutModel",
            "justify_items": null,
            "grid_row": null,
            "max_height": null,
            "align_content": null,
            "visibility": null,
            "align_self": null,
            "height": null,
            "min_height": null,
            "padding": null,
            "grid_auto_rows": null,
            "grid_gap": null,
            "max_width": null,
            "order": null,
            "_view_module_version": "1.2.0",
            "grid_template_areas": null,
            "object_position": null,
            "object_fit": null,
            "grid_auto_columns": null,
            "margin": null,
            "display": null,
            "left": null
          }
        },
        "6f59681340b64a2392289459b3d16d7e": {
          "model_module": "@jupyter-widgets/controls",
          "model_name": "DescriptionStyleModel",
          "model_module_version": "1.5.0",
          "state": {
            "_view_name": "StyleView",
            "_model_name": "DescriptionStyleModel",
            "description_width": "",
            "_view_module": "@jupyter-widgets/base",
            "_model_module_version": "1.5.0",
            "_view_count": null,
            "_view_module_version": "1.2.0",
            "_model_module": "@jupyter-widgets/controls"
          }
        },
        "0a5e33a5257b4653b91b5afa4bc86197": {
          "model_module": "@jupyter-widgets/base",
          "model_name": "LayoutModel",
          "model_module_version": "1.2.0",
          "state": {
            "_view_name": "LayoutView",
            "grid_template_rows": null,
            "right": null,
            "justify_content": null,
            "_view_module": "@jupyter-widgets/base",
            "overflow": null,
            "_model_module_version": "1.2.0",
            "_view_count": null,
            "flex_flow": null,
            "width": null,
            "min_width": null,
            "border": null,
            "align_items": null,
            "bottom": null,
            "_model_module": "@jupyter-widgets/base",
            "top": null,
            "grid_column": null,
            "overflow_y": null,
            "overflow_x": null,
            "grid_auto_flow": null,
            "grid_area": null,
            "grid_template_columns": null,
            "flex": null,
            "_model_name": "LayoutModel",
            "justify_items": null,
            "grid_row": null,
            "max_height": null,
            "align_content": null,
            "visibility": null,
            "align_self": null,
            "height": null,
            "min_height": null,
            "padding": null,
            "grid_auto_rows": null,
            "grid_gap": null,
            "max_width": null,
            "order": null,
            "_view_module_version": "1.2.0",
            "grid_template_areas": null,
            "object_position": null,
            "object_fit": null,
            "grid_auto_columns": null,
            "margin": null,
            "display": null,
            "left": null
          }
        }
      }
    }
  },
  "cells": [
    {
      "cell_type": "markdown",
      "metadata": {
        "id": "djUrm8ornszp"
      },
      "source": [
        "<!-- # COLX 585 Trends in Computational Linguistic -->\n",
        "##  Tutorial: Multitask RoBERTa\n",
        "\n",
        "In this tutorial, we will implement a multi-task learning model. Precisely, we fine-tune the pre-trained RoBERTa model on two classification tasks jointly. Our goal is to train one single model to perform both tasks well. Multi-task learning (MTL) is a type of inductive transfer learning ([Caruana, 1997](https://link.springer.com/article/10.1023/A:1007379606734)). MTL tries to learn the target and source tasks jointly and improve the target task or all tasks using a shared representation. Generally, MTL involves two sharing parameter approaches, i.e., hard sharing and soft sharing. The hard sharing approach shares the hidden layers between tasks and keeps task-specific prediction layers. In soft sharing, each task has its own task-specific hidden and output modules; and the parameters are shared by the additional constrain layers or regularizers. \n",
        "\n",
        "In this tutorial, we will implement an MTL RoBERTa with a hard sharing strategy. Transformer layers are shared across multiple tasks, and each task has its own prediction layer on top of shared Transformer layers. \n",
        "\n",
        "![](https://ruder.io/content/images/2017/05/mtl_images-001-2.png)\n",
        "\n",
        "Picture Courtesy: https://ruder.io/multi-task/\n",
        "\n",
        "\n",
        " \n"
      ]
    },
    {
      "cell_type": "markdown",
      "metadata": {
        "id": "Yb5vgFH_w-SD"
      },
      "source": [
        "In this tutorial, we will use two annotated datasets: [Sentiment Analysis in Twitter](https://www.aclweb.org/anthology/S17-2088.pdf) (SemEval-2017 Task 4) and [Emotion Recognition](https://www.aclweb.org/anthology/S18-1032.pdf) (SemEval-2018 Task 1).\n",
        "\n",
        "- Sentiment Analysis in Twitter task is annotated with the labels of \"negative\", \"positive\", and \"neutral\".\n",
        "\n",
        "- Emotion Recognition task is annotated with the labels of \"anger\", \"joy\", \"optimism\", and \"sadness\"."
      ]
    },
    {
      "cell_type": "code",
      "metadata": {
        "colab": {
          "base_uri": "https://localhost:8080/"
        },
        "id": "hl31EfIUmF2M",
        "outputId": "bffa43ae-68c6-473e-e7ee-15ed8249d074"
      },
      "source": [
        "from google.colab import drive\n",
        "drive.mount('/content/drive')"
      ],
      "execution_count": null,
      "outputs": [
        {
          "output_type": "stream",
          "text": [
            "Drive already mounted at /content/drive; to attempt to forcibly remount, call drive.mount(\"/content/drive\", force_remount=True).\n"
          ],
          "name": "stdout"
        }
      ]
    },
    {
      "cell_type": "markdown",
      "metadata": {
        "id": "JOuyIrrR4a73"
      },
      "source": [
        "Install packages"
      ]
    },
    {
      "cell_type": "code",
      "metadata": {
        "colab": {
          "base_uri": "https://localhost:8080/"
        },
        "id": "3ze3PAi6plCn",
        "outputId": "8c793f8c-a124-4f19-cf32-6da183ff7652"
      },
      "source": [
        "! pip install transformers\n",
        "! pip install sentencepiece"
      ],
      "execution_count": null,
      "outputs": [
        {
          "output_type": "stream",
          "text": [
            "Collecting transformers\n",
            "  Downloading transformers-4.9.2-py3-none-any.whl (2.6 MB)\n",
            "\u001b[K     |████████████████████████████████| 2.6 MB 13.2 MB/s \n",
            "\u001b[?25hRequirement already satisfied: importlib-metadata in /usr/local/lib/python3.7/dist-packages (from transformers) (4.6.4)\n",
            "Collecting huggingface-hub==0.0.12\n",
            "  Downloading huggingface_hub-0.0.12-py3-none-any.whl (37 kB)\n",
            "Requirement already satisfied: tqdm>=4.27 in /usr/local/lib/python3.7/dist-packages (from transformers) (4.62.0)\n",
            "Requirement already satisfied: packaging in /usr/local/lib/python3.7/dist-packages (from transformers) (21.0)\n",
            "Collecting sacremoses\n",
            "  Downloading sacremoses-0.0.45-py3-none-any.whl (895 kB)\n",
            "\u001b[K     |████████████████████████████████| 895 kB 44.6 MB/s \n",
            "\u001b[?25hRequirement already satisfied: filelock in /usr/local/lib/python3.7/dist-packages (from transformers) (3.0.12)\n",
            "Collecting tokenizers<0.11,>=0.10.1\n",
            "  Downloading tokenizers-0.10.3-cp37-cp37m-manylinux_2_5_x86_64.manylinux1_x86_64.manylinux_2_12_x86_64.manylinux2010_x86_64.whl (3.3 MB)\n",
            "\u001b[K     |████████████████████████████████| 3.3 MB 42.2 MB/s \n",
            "\u001b[?25hRequirement already satisfied: numpy>=1.17 in /usr/local/lib/python3.7/dist-packages (from transformers) (1.19.5)\n",
            "Requirement already satisfied: regex!=2019.12.17 in /usr/local/lib/python3.7/dist-packages (from transformers) (2019.12.20)\n",
            "Requirement already satisfied: requests in /usr/local/lib/python3.7/dist-packages (from transformers) (2.23.0)\n",
            "Collecting pyyaml>=5.1\n",
            "  Downloading PyYAML-5.4.1-cp37-cp37m-manylinux1_x86_64.whl (636 kB)\n",
            "\u001b[K     |████████████████████████████████| 636 kB 42.2 MB/s \n",
            "\u001b[?25hRequirement already satisfied: typing-extensions in /usr/local/lib/python3.7/dist-packages (from huggingface-hub==0.0.12->transformers) (3.7.4.3)\n",
            "Requirement already satisfied: pyparsing>=2.0.2 in /usr/local/lib/python3.7/dist-packages (from packaging->transformers) (2.4.7)\n",
            "Requirement already satisfied: zipp>=0.5 in /usr/local/lib/python3.7/dist-packages (from importlib-metadata->transformers) (3.5.0)\n",
            "Requirement already satisfied: urllib3!=1.25.0,!=1.25.1,<1.26,>=1.21.1 in /usr/local/lib/python3.7/dist-packages (from requests->transformers) (1.24.3)\n",
            "Requirement already satisfied: chardet<4,>=3.0.2 in /usr/local/lib/python3.7/dist-packages (from requests->transformers) (3.0.4)\n",
            "Requirement already satisfied: certifi>=2017.4.17 in /usr/local/lib/python3.7/dist-packages (from requests->transformers) (2021.5.30)\n",
            "Requirement already satisfied: idna<3,>=2.5 in /usr/local/lib/python3.7/dist-packages (from requests->transformers) (2.10)\n",
            "Requirement already satisfied: six in /usr/local/lib/python3.7/dist-packages (from sacremoses->transformers) (1.15.0)\n",
            "Requirement already satisfied: click in /usr/local/lib/python3.7/dist-packages (from sacremoses->transformers) (7.1.2)\n",
            "Requirement already satisfied: joblib in /usr/local/lib/python3.7/dist-packages (from sacremoses->transformers) (1.0.1)\n",
            "Installing collected packages: tokenizers, sacremoses, pyyaml, huggingface-hub, transformers\n",
            "  Attempting uninstall: pyyaml\n",
            "    Found existing installation: PyYAML 3.13\n",
            "    Uninstalling PyYAML-3.13:\n",
            "      Successfully uninstalled PyYAML-3.13\n",
            "Successfully installed huggingface-hub-0.0.12 pyyaml-5.4.1 sacremoses-0.0.45 tokenizers-0.10.3 transformers-4.9.2\n",
            "Collecting sentencepiece\n",
            "  Downloading sentencepiece-0.1.96-cp37-cp37m-manylinux_2_17_x86_64.manylinux2014_x86_64.whl (1.2 MB)\n",
            "\u001b[K     |████████████████████████████████| 1.2 MB 13.0 MB/s \n",
            "\u001b[?25hInstalling collected packages: sentencepiece\n",
            "Successfully installed sentencepiece-0.1.96\n"
          ],
          "name": "stdout"
        }
      ]
    },
    {
      "cell_type": "markdown",
      "metadata": {
        "id": "Sx56mkUy4hrO"
      },
      "source": [
        "## Import require Python libraries"
      ]
    },
    {
      "cell_type": "code",
      "metadata": {
        "id": "4bl8AN8XpbtZ"
      },
      "source": [
        "import torch, os, json\n",
        "import pandas as pd\n",
        "import torch.nn as nn\n",
        "from tqdm import tqdm, trange\n",
        "from random import shuffle\n",
        "import random\n",
        "import numpy as np\n",
        "from collections import defaultdict\n",
        "from itertools import cycle\n",
        "from torch.utils.data import Dataset, DataLoader, RandomSampler, SequentialSampler\n",
        "from transformers import *\n",
        "from sklearn.metrics import accuracy_score, f1_score, recall_score, precision_score\n"
      ],
      "execution_count": null,
      "outputs": []
    },
    {
      "cell_type": "code",
      "metadata": {
        "colab": {
          "base_uri": "https://localhost:8080/"
        },
        "id": "3WSHAb4mpi5O",
        "outputId": "a6254e9a-f15d-40e2-dbfc-895b5dd26109"
      },
      "source": [
        "## Set seed of randomization and working device\n",
        "manual_seed = 77\n",
        "torch.manual_seed(manual_seed)\n",
        "device = torch.device(\"cuda\" if torch.cuda.is_available() else \"cpu\")\n",
        "print(device)\n",
        "n_gpu = torch.cuda.device_count()\n",
        "if n_gpu > 0:\n",
        "    torch.cuda.manual_seed(manual_seed)\n",
        "\n",
        "print(torch.cuda.get_device_name(0))"
      ],
      "execution_count": null,
      "outputs": [
        {
          "output_type": "stream",
          "text": [
            "cuda\n",
            "Tesla K80\n"
          ],
          "name": "stdout"
        }
      ]
    },
    {
      "cell_type": "markdown",
      "metadata": {
        "id": "2LgQqggw4oHz"
      },
      "source": [
        "### Define data generator class and preparation function.\n",
        "\n",
        "The custom dataset should inherit [`Dataset`](https://pytorch.org/tutorials/beginner/data_loading_tutorial.html#dataset-class) and define the following methods:\n",
        "  * `__len__` so that len(dataset) returns the size of the dataset.\n",
        "  * `__getitem__` to support the indexing such that `dataset[i]` can be used to get $i$th sample"
      ]
    },
    {
      "cell_type": "code",
      "metadata": {
        "id": "V-QbeOLVr-Py"
      },
      "source": [
        "class CustomDataset(Dataset):\n",
        "    # initialization\n",
        "    def __init__(self, dataframe, tokenizer, max_len, lab2ind):\n",
        "        \"\"\"\n",
        "          dataframe: pandas DataFrame.\n",
        "          tokenizer: Hugginfance BERT/RoBERTa tokenizer\n",
        "          max_len: maximal length of input sequence\n",
        "          lab2ind: dictionary of label classes\n",
        "        \"\"\"\n",
        "        self.tokenizer = tokenizer\n",
        "        self.data = dataframe\n",
        "        self.comment_text = self.data.content\n",
        "        self.labels = self.data.label\n",
        "        self.max_len = max_len\n",
        "        self.lab2ind = lab2ind\n",
        "\n",
        "    # get the size of the dataset\n",
        "    def __len__(self):\n",
        "        return len(self.comment_text)\n",
        "\n",
        "    # generate sample by index\n",
        "    def __getitem__(self, index):\n",
        "        # get ith sample and label\n",
        "        comment_text = str(self.comment_text[index])\n",
        "        label = str(self.labels[index])\n",
        "\n",
        "        label = self.lab2ind[label]\n",
        "        # use encode_plus() of Transformers to tokenize and vectorize input seuqnce and covert it to tensors. \n",
        "        # this method truncate or pad sequence to the maximal length and then return pytorch tensors. \n",
        "        inputs = self.tokenizer.encode_plus(\n",
        "            comment_text,\n",
        "            None,\n",
        "            add_special_tokens=True,\n",
        "            padding=\"max_length\",\n",
        "            truncation=True,\n",
        "            max_length=self.max_len,\n",
        "            return_token_type_ids=False,\n",
        "            return_tensors = \"pt\"\n",
        "        )\n",
        "        return {\n",
        "            'ids': inputs['input_ids'].squeeze(0),  # shape of input_ids: [1, max_length]\n",
        "            'masks': inputs['attention_mask'].squeeze(0), # shape of attention_mask: [1, max_length]\n",
        "            'targets': torch.tensor(label, dtype=torch.long)\n",
        "        }"
      ],
      "execution_count": null,
      "outputs": []
    },
    {
      "cell_type": "markdown",
      "metadata": {
        "id": "c1eJPmDf5jbS"
      },
      "source": [
        "### Define a function to load datasets and create data iterators.\n"
      ]
    },
    {
      "cell_type": "code",
      "metadata": {
        "id": "g3DsrC-8sghT"
      },
      "source": [
        "def regular_encode(file_path, tokenizer, lab2ind, shuffle=True, num_workers = 2, batch_size=64, maxlen = 32, mode = 'train'): \n",
        "    '''\n",
        "      file_path: path to your dataset file\n",
        "      tokenizer: tokenizer method\n",
        "      lab2ind: label-to-index dictionary\n",
        "      shuffle: shuffle the dataset or not\n",
        "      num_workers: a number of data processors\n",
        "      batch_size: the number of batch size\n",
        "      maxlen: maximal sequence length\n",
        "      mode: the type of dataset\n",
        "    '''\n",
        "    # if we are in train mode, we will load two columns (i.e., text and label).\n",
        "    if mode == 'train':\n",
        "        # Use pandas to load dataset, the dataset should be a tsv file where the first line is the header.\n",
        "        df = pd.read_csv(file_path, delimiter='\\t',header=0, encoding='utf-8', quotechar=None, quoting=3)\n",
        "    \n",
        "    # if we are in predict mode, we will load one column (i.e., text).\n",
        "    elif mode == 'predict':\n",
        "        df = pd.read_csv(file_path, delimiter='\\t',header=0)\n",
        "    else:\n",
        "        print(\"the type of mode should be either 'train' or 'predict'. \")\n",
        "        return\n",
        "        \n",
        "    print(\"{} Dataset: {}\".format(file_path, df.shape))\n",
        "    # instantiate the dataset instance \n",
        "    custom_set = CustomDataset(df, tokenizer, maxlen,lab2ind)\n",
        "    num_samples = len(custom_set)\n",
        "    num_labels = len(lab2ind)\n",
        "\n",
        "    dataset_params = {'batch_size': batch_size, 'shuffle': shuffle, 'num_workers': num_workers}\n",
        "\n",
        "    batch_data_loader = DataLoader(custom_set, **dataset_params)\n",
        "    # return a data iterator\n",
        "    return batch_data_loader, num_samples, num_labels"
      ],
      "execution_count": null,
      "outputs": []
    },
    {
      "cell_type": "markdown",
      "metadata": {
        "id": "A0cFA5QL5rM7"
      },
      "source": [
        "### Create a optimizer and scheduler."
      ]
    },
    {
      "cell_type": "code",
      "metadata": {
        "id": "OjXVztbLtgT3"
      },
      "source": [
        "def create_optimizer_and_scheduler(model, num_training_steps, warmup_steps, learning_rate):\n",
        "    \"\"\"\n",
        "    Setup the optimizer and the learning rate scheduler.\n",
        "    num_training_steps: the number of training steps\n",
        "    warmup_steps: the number of warm-up steps\n",
        "    learning_rate: the peak learning rate\n",
        "    \"\"\"\n",
        "    optimizer = AdamW(\n",
        "    model.parameters(),\n",
        "    lr=learning_rate\n",
        "    )\n",
        "    \n",
        "    lr_scheduler = get_linear_schedule_with_warmup(\n",
        "        optimizer, \n",
        "        num_warmup_steps=warmup_steps, \n",
        "        num_training_steps=num_training_steps\n",
        "    )\n",
        "\n",
        "    return optimizer, lr_scheduler"
      ],
      "execution_count": null,
      "outputs": []
    },
    {
      "cell_type": "markdown",
      "metadata": {
        "id": "TIqJAZ_CAdFO"
      },
      "source": [
        "### Define the hyperparameter and I/O directories. \n",
        "\n",
        "* In `/content/drive/MyDrive/Colab Notebooks/multitask`, I have two task folders: \"emotion-semeval2018/\" and \"sentiment-2017task4/\".\n",
        "\n",
        "* Each task folder includes four files: `train.tsv`, `dev.tsv`, `test.tsv`, and `label2ind.json`. \n",
        "\n",
        "* `train.tsv`, `dev.tsv`, `test.tsv` are datasets. `label2ind.json` is the label mapping dictionary. "
      ]
    },
    {
      "cell_type": "code",
      "metadata": {
        "id": "0IF9DnOK6WXE"
      },
      "source": [
        "input_dir = \"/content/drive/MyDrive/Colab Notebooks/multitask\"\n",
        "output_dir = \"./mtl-rb/\"\n",
        "task_names = [\"emotion-2018task1\",\"sentiment-2017task4\"]\n",
        "model_name_path = \"roberta-base\"\n",
        "\n",
        "max_seq_length = 64\n",
        "train_batch_size = 32\n",
        "eval_batch_size = 128\n",
        "hidden_size = 768\n",
        "\n",
        "lr = 2e-5\n",
        "max_grad_norm = 1.0\n",
        "warmup_proportion = 0.1\n",
        "num_train_epochs = 5"
      ],
      "execution_count": null,
      "outputs": []
    },
    {
      "cell_type": "markdown",
      "metadata": {
        "id": "qhUwYUtd6Co4"
      },
      "source": [
        "## Build Multi-task architecture \n",
        "\n",
        "1. We share the Transformer-encoder layers (i.e., BERT layers) across all the tasks. Transformer-encoder layers encode each input sequence. We use the last layer's hidden state of `[CLS]` token as the sequence representation.\n",
        "\n",
        "2. Each task corresponds to a task-specific feed-forward neural network (FFNN) that includes two non-linear layers. We refer to this task-specific FFNN as a task-specific classification module. \n",
        "\n",
        "3. For each input sequence, we pass the sequence representation through the corresponding classification module and get the prediction. Note that each input sequence only belongs to one task in this tutorial. "
      ]
    },
    {
      "cell_type": "markdown",
      "metadata": {
        "id": "QSXUJafK8pb7"
      },
      "source": [
        "### Build task-specific classification module\n",
        "\n",
        "Each task-specific classification module is the same as the classification layer in the single task BERT model, i.e., a two-layer FFNN including two non-linear layers."
      ]
    },
    {
      "cell_type": "code",
      "metadata": {
        "id": "x_bte43fz4aY"
      },
      "source": [
        "class CLS_LAYER(nn.Module):\n",
        "    def __init__(self, label_num, hidden_size):\n",
        "        super(CLS_LAYER, self).__init__()\n",
        "        self.hidden_size = hidden_size\n",
        "        self.label_num = label_num\n",
        "        \n",
        "        self.dense = nn.Linear(self.hidden_size, self.hidden_size)\n",
        "        self.dropout = nn.Dropout(0.1)\n",
        "\n",
        "        # the output dimention is the number of classes in the task. \n",
        "        self.fc = nn.Linear(self.hidden_size, self.label_num)\n",
        "        # initialization\n",
        "        initial_module(self.dense)\n",
        "        initial_module(self.fc)\n",
        "  \n",
        "    def forward(self, pooler_output):\n",
        "        \n",
        "        x = self.dense(pooler_output)\n",
        "        x = torch.tanh(x)\n",
        "        x = self.dropout(x)\n",
        "        logits = self.fc(x)\n",
        "\n",
        "        return logits   \n"
      ],
      "execution_count": null,
      "outputs": []
    },
    {
      "cell_type": "markdown",
      "metadata": {
        "id": "3YS4gwWv9uHs"
      },
      "source": [
        "The classification module weights are initialized by a normal distribution with $mean=0.0$ and $std = 0.02$, and the biases are the value of 0."
      ]
    },
    {
      "cell_type": "code",
      "metadata": {
        "id": "RgrD0-AI9t0e"
      },
      "source": [
        "def initial_module(module):\n",
        "    torch.nn.init.normal_(module.weight, mean=0.0, std=0.02)\n",
        "    torch.nn.init.constant_(module.bias, 0)"
      ],
      "execution_count": null,
      "outputs": []
    },
    {
      "cell_type": "markdown",
      "metadata": {
        "id": "PVV8t3GW-TxJ"
      },
      "source": [
        "We add the task-specific classification modules to the shared RoBERTa layers. \n",
        "\n",
        "* `classifier_layers` is a list of classification modules. Its size is the number of tasks. \n",
        "\n",
        "* Same to single task BERT, we use `pooler_output` as the sequence-level representation. \n",
        "\n",
        "* `task_id` is the identifier that indicates the task type and navigates the computation flow to the corresponding classification module. In our example, the task id of \"emotion-semeval2018\" is 0, and \"sentiment-2017task4\" is 1.\n",
        "\n"
      ]
    },
    {
      "cell_type": "code",
      "metadata": {
        "id": "qmswRVYyv6KO"
      },
      "source": [
        "class MT_BERT(nn.Module):\n",
        "    def __init__(self, model_name_path, classifier_layers):\n",
        "        super(MT_BERT, self).__init__()\n",
        "\n",
        "        self.bert_model = RobertaModel.from_pretrained(model_name_path)\n",
        "        self.classifiers = nn.ModuleList(classifier_layers)\n",
        "\n",
        "    def forward(self, input_ids, input_mask, task_id):\n",
        "        outputs = self.bert_model(input_ids = input_ids, attention_mask = input_mask)\n",
        "        pooler_output = outputs['pooler_output']\n",
        "        \n",
        "        # select classification module according to the task index\n",
        "        logits = self.classifiers[task_id](pooler_output)\n",
        "        \n",
        "        return logits  "
      ],
      "execution_count": null,
      "outputs": []
    },
    {
      "cell_type": "code",
      "metadata": {
        "id": "Ol3fZ2lf5B5Y"
      },
      "source": [
        "def create_model(model_name_path, label_list, hidden_size):\n",
        "    # create a classification module for each task\n",
        "    classification_layers = [CLS_LAYER(len(task_label2ind), hidden_size) for task_label2ind in label_list]\n",
        "\n",
        "    model = MT_BERT(model_name_path, classification_layers)\n",
        "    return model"
      ],
      "execution_count": null,
      "outputs": []
    },
    {
      "cell_type": "markdown",
      "metadata": {
        "id": "bAl5e2joDGtS"
      },
      "source": [
        "### Load all label mapping dictionaries. "
      ]
    },
    {
      "cell_type": "code",
      "metadata": {
        "id": "we3LfNgm493j"
      },
      "source": [
        "all_lab2ind = []\n",
        "for task in task_names:\n",
        "    tmp_file = open(os.path.join(os.path.join(input_dir, task), \"label2ind.json\"))\n",
        "    lab2ind = json.load(tmp_file)\n",
        "    tmp_file.close()\n",
        "    all_lab2ind.append(lab2ind)"
      ],
      "execution_count": null,
      "outputs": []
    },
    {
      "cell_type": "code",
      "metadata": {
        "id": "762rEql30RL5",
        "colab": {
          "base_uri": "https://localhost:8080/",
          "height": 145,
          "referenced_widgets": [
            "240d93e0423d49318103d8661f02a7cc",
            "ba46dbff7a864c65a87e708f07e60136",
            "614614acad0d41b4b500072db68b39b4",
            "74b4ea08f5a24ddaad11edd8fa44abd3",
            "e7d7eb50fc544c45810592d6df2bba19",
            "01b0f326447949659dea4de2eb030f10",
            "8f917d1ae0594f4f8fa54bfc52b7af28",
            "67bf9f87d33c421eb479a9131535a34a",
            "bcb9e4136269482c898aade1eed25a28",
            "72d1eafef99d4399bb9ce6a52ebea483",
            "9a5bda5262c34bf3b1cdae3f15240d86",
            "86ea12baf54b401a9ccbd0bb28560957",
            "1913521ae70146b69445abf5ec10b74e",
            "e64c36a8287040738babac8de91d76bc",
            "2cbc03e7501f425ba6723913c8faa2e3",
            "a3e3e26d36a143bc8ca092dc57897c96",
            "3b379318394c459bac6768c7af946e38",
            "0cd5a3d03d8b4e8cb579806b9d6fcaf7",
            "9425a721456a496b91b49896d6c6a0ed",
            "9d178a5045c348628beb1dcdadf7adb2",
            "5366038d31354ed4b84adfc2a2a91edc",
            "8b511985fa35415d894dccaa009d55df",
            "78945def06e04fb5a8f237fa322161ca",
            "b53bfb8ab7f44a70957322745f8a2a5f",
            "e78fde22cce04b1cab5d5711e86d546a",
            "eb41aeb4d8a34ca8bba7ee835ca16ef1",
            "d6b3e4239e7541ff8e675c3df0b72acb",
            "623731d645a34eebb89d4e6397dde4ed",
            "753365e952184f029d85d0d4ded692b1",
            "58edce97a0cf4cda895231750a6e3886",
            "752c2d08e72d40b0978c57bb22acac11",
            "1412a74f367e4b3191e76abdb83e2b17",
            "b2ab7d9c1a824af3b781c2fbec5f36ed",
            "3438307fdcd5484ca7ef9ad4a123c751",
            "ec4ada77fcc64ce287efa9a83bdde41c",
            "182e34ebbcf8446299ac97741b339e74",
            "a3893b0900284f49bee795d9ef0fac2f",
            "8aeefeae2f32424c99dbecde2deecaf9",
            "48a3abd1fc374492b9bac8e7b523a0ad",
            "401a4df91310415fbab4488c835fdabb",
            "36e64ce722e34de09a5984478234449d",
            "1e015dcc45f44729b4a48e206e04e16e",
            "5577901f6ad6400f861d78f00bbd33f2",
            "790bf22770b54aa4b5aff262eab9edfa"
          ]
        },
        "outputId": "3d6979f8-31ab-42d5-e9f5-d2fad2a662ce"
      },
      "source": [
        "# load RoBERTa tokenizer by its shortcut name.\n",
        "tokenizer = RobertaTokenizerFast.from_pretrained(model_name_path)"
      ],
      "execution_count": null,
      "outputs": [
        {
          "output_type": "display_data",
          "data": {
            "application/vnd.jupyter.widget-view+json": {
              "model_id": "240d93e0423d49318103d8661f02a7cc",
              "version_minor": 0,
              "version_major": 2
            },
            "text/plain": [
              "Downloading:   0%|          | 0.00/899k [00:00<?, ?B/s]"
            ]
          },
          "metadata": {}
        },
        {
          "output_type": "display_data",
          "data": {
            "application/vnd.jupyter.widget-view+json": {
              "model_id": "86ea12baf54b401a9ccbd0bb28560957",
              "version_minor": 0,
              "version_major": 2
            },
            "text/plain": [
              "Downloading:   0%|          | 0.00/456k [00:00<?, ?B/s]"
            ]
          },
          "metadata": {}
        },
        {
          "output_type": "display_data",
          "data": {
            "application/vnd.jupyter.widget-view+json": {
              "model_id": "78945def06e04fb5a8f237fa322161ca",
              "version_minor": 0,
              "version_major": 2
            },
            "text/plain": [
              "Downloading:   0%|          | 0.00/1.36M [00:00<?, ?B/s]"
            ]
          },
          "metadata": {}
        },
        {
          "output_type": "display_data",
          "data": {
            "application/vnd.jupyter.widget-view+json": {
              "model_id": "3438307fdcd5484ca7ef9ad4a123c751",
              "version_minor": 0,
              "version_major": 2
            },
            "text/plain": [
              "Downloading:   0%|          | 0.00/481 [00:00<?, ?B/s]"
            ]
          },
          "metadata": {}
        }
      ]
    },
    {
      "cell_type": "markdown",
      "metadata": {
        "id": "19i5M-kRDOsj"
      },
      "source": [
        "### Prepare Train, Dev and Test dataloaders for each task. \n",
        "\n",
        "* Each task has its own Train, Dev and Test dataloaders.\n",
        "* `train_loaders` is a list of dataloaders that contain all the training dataloaders. It includes 2 items (dataloaders) in our experiment. \n",
        "* Same to `train_loaders`, `valid_loaders` and  `test_loaders` are the lists of dataloaders.\n",
        "\n",
        "* `data_sizes` is a list of sizes of training sets.\n"
      ]
    },
    {
      "cell_type": "code",
      "metadata": {
        "colab": {
          "base_uri": "https://localhost:8080/"
        },
        "id": "kxBiXrMB6z0l",
        "outputId": "e0f4f218-d825-41df-fe49-46190a6a229a"
      },
      "source": [
        "train_loaders = []\n",
        "valid_loaders = []\n",
        "test_loaders = []\n",
        "\n",
        "data_sizes = []\n",
        "total_training_batch = 0\n",
        "for i, task in enumerate(task_names):\n",
        "    lab2ind = all_lab2ind[i]\n",
        "    ##############################\n",
        "    train_loader, num_samples, num_label  = regular_encode(os.path.join(os.path.join(input_dir, task), \"train.tsv\"), tokenizer, lab2ind, shuffle=True, batch_size=train_batch_size, maxlen = max_seq_length)\n",
        "    \n",
        "    data_sizes.append(num_samples)\n",
        "    total_training_batch += len(train_loader)\n",
        "    train_loaders.append(iter(train_loader))\n",
        "    \n",
        "    ##############################\n",
        "    valid_loader, _, _  = regular_encode(os.path.join(os.path.join(input_dir, task), \"dev.tsv\"), tokenizer, lab2ind, shuffle=False, batch_size=eval_batch_size, maxlen = max_seq_length)\n",
        "    valid_loaders.append(valid_loader)\n",
        "    \n",
        "    ###############################\n",
        "    test_loader, _, _  = regular_encode(os.path.join(os.path.join(input_dir, task), \"test.tsv\"), tokenizer, lab2ind, shuffle=False, batch_size=eval_batch_size, maxlen = max_seq_length)\n",
        "    test_loaders.append(test_loader)\n"
      ],
      "execution_count": null,
      "outputs": [
        {
          "output_type": "stream",
          "text": [
            "/content/drive/MyDrive/Colab Notebooks/multitask/emotion-2018task1/train.tsv Dataset: (3257, 3)\n",
            "/content/drive/MyDrive/Colab Notebooks/multitask/emotion-2018task1/dev.tsv Dataset: (374, 3)\n",
            "/content/drive/MyDrive/Colab Notebooks/multitask/emotion-2018task1/test.tsv Dataset: (1421, 3)\n",
            "/content/drive/MyDrive/Colab Notebooks/multitask/sentiment-2017task4/train.tsv Dataset: (42756, 3)\n",
            "/content/drive/MyDrive/Colab Notebooks/multitask/sentiment-2017task4/dev.tsv Dataset: (4751, 3)\n",
            "/content/drive/MyDrive/Colab Notebooks/multitask/sentiment-2017task4/test.tsv Dataset: (12284, 3)\n"
          ],
          "name": "stdout"
        }
      ]
    },
    {
      "cell_type": "code",
      "metadata": {
        "colab": {
          "base_uri": "https://localhost:8080/"
        },
        "id": "DxQnRk39-ltT",
        "outputId": "2d8526b0-2d31-4e92-8c09-b13af0ab7cf6"
      },
      "source": [
        "print(\"total number of training batches:\", total_training_batch)"
      ],
      "execution_count": null,
      "outputs": [
        {
          "output_type": "stream",
          "text": [
            "total number of training batches: 1439\n"
          ],
          "name": "stdout"
        }
      ]
    },
    {
      "cell_type": "markdown",
      "metadata": {
        "id": "vMS00XO5EdyS"
      },
      "source": [
        "We use `cycle()` method to make each training dataloader as a infinite iterator."
      ]
    },
    {
      "cell_type": "code",
      "metadata": {
        "id": "fDcNaE-5EdKa"
      },
      "source": [
        "train_loaders = [cycle(it) for it in train_loaders]"
      ],
      "execution_count": null,
      "outputs": []
    },
    {
      "cell_type": "markdown",
      "metadata": {
        "id": "tK_M3eO4HSsr"
      },
      "source": [
        "### Define the `train()` and `evaluate()` function. "
      ]
    },
    {
      "cell_type": "code",
      "metadata": {
        "id": "O9EGoCaaBiiL"
      },
      "source": [
        "def train(model, optimizer, scheduler, loss_func, data_sizes, num_per_epoch, train_loaders):\n",
        "    '''\n",
        "    model: multi-task model\n",
        "    optimizer: AdamW optimizer\n",
        "    scheduler: learning rate scheduler\n",
        "    loss_func: loss funtion\n",
        "    data_sizes: a list of sizes of training sets\n",
        "    num_per_epoch: training steps of each epoch\n",
        "    train_loaders: a list of training dataloaders\n",
        "    '''\n",
        "    model.train()\n",
        "\n",
        "    # record training losses of all the tasks\n",
        "    tr_loss = [0. for i in range(len(data_sizes))]\n",
        "\n",
        "    # At each step, we sample a training dataloader to generate a batch. \n",
        "    # The sampling probability is based on the size of training set of each task. \n",
        "    total_sample = sum(data_sizes)\n",
        "    probs = [p/total_sample for p in data_sizes]\n",
        "\n",
        "    task_id = 0\n",
        "    epoch = 0\n",
        "\n",
        "    for step in range(num_per_epoch):\n",
        "        # Select a training dataloader by the sampling probability. \n",
        "        task_id = np.random.choice(int(len(data_sizes)), p=probs)\n",
        "\n",
        "        # Generate batch of selected task.\n",
        "        batch = next(train_loaders[task_id])\n",
        "        \n",
        "         # load data batch\n",
        "        input_ids = batch['ids'].to(device)\n",
        "        input_mask = batch['masks'].to(device)\n",
        "        labels = batch['targets'].to(device)\n",
        "        \n",
        "        # forward\n",
        "        outputs = model(input_ids, input_mask, task_id)\n",
        "        loss = loss_func(outputs, labels)\n",
        "\n",
        "        # delete used variables to free GPU memory\n",
        "        del batch, input_ids, input_mask, labels\n",
        "        optimizer.zero_grad()\n",
        "            \n",
        "        loss.backward()\n",
        "\n",
        "        optimizer.step()\n",
        "        torch.nn.utils.clip_grad_norm_(model.parameters(), max_grad_norm) \n",
        "        scheduler.step()\n",
        "    \n",
        "        # free GPU memory\n",
        "        if device == 'cuda':\n",
        "            torch.cuda.empty_cache()\n",
        "\n",
        "    return tr_loss"
      ],
      "execution_count": null,
      "outputs": []
    },
    {
      "cell_type": "markdown",
      "metadata": {
        "id": "khM-1G6qHh3V"
      },
      "source": [
        "### Create a evaluation funtion."
      ]
    },
    {
      "cell_type": "code",
      "metadata": {
        "id": "t-SoGcptHiSJ"
      },
      "source": [
        "def evaluate(model, iterator, loss_func, task_id):\n",
        "    \n",
        "    model.eval()\n",
        "    \n",
        "    epoch_loss = 0\n",
        "    all_pred=[]\n",
        "    all_label = []\n",
        "    \n",
        "    with torch.no_grad():\n",
        "        \n",
        "        for i, batch in enumerate(iterator):\n",
        "\n",
        "            input_ids = batch['ids'].to(device)\n",
        "            input_mask = batch['masks'].to(device)\n",
        "            labels = batch['targets'].to(device)\n",
        "\n",
        "            outputs = model(input_ids, input_mask, task_id)\n",
        "\n",
        "            loss = loss_func(outputs, labels)\n",
        "            # delete used variables to free GPU memory\n",
        "            del batch, input_ids, input_mask\n",
        "\n",
        "            # identify the predicted class for each example in the batch\n",
        "            probabilities, predicted = torch.max(outputs.cpu().data, 1)\n",
        "            # put all the true labels and predictions to two lists\n",
        "            all_pred.extend(predicted)\n",
        "            all_label.extend(labels.cpu())\n",
        "    \n",
        "    accuracy = accuracy_score(all_label, all_pred)\n",
        "    f1score = f1_score(all_label, all_pred, average='macro') \n",
        "\n",
        "    return epoch_loss / len(iterator), accuracy, f1score"
      ],
      "execution_count": null,
      "outputs": []
    },
    {
      "cell_type": "markdown",
      "metadata": {
        "id": "q-xLseCVKx9O"
      },
      "source": [
        "### Instantiate our multi-task model  "
      ]
    },
    {
      "cell_type": "code",
      "metadata": {
        "id": "giJC9wHn6-vn",
        "colab": {
          "base_uri": "https://localhost:8080/",
          "height": 119,
          "referenced_widgets": [
            "33c6e86895ab438ab19f4e1b90a4d63f",
            "d185ddfb8e56491b9078a2e407502e02",
            "d28700115ab14ecfa1738901ff17b843",
            "246ce54422354f77971d4d58e25c36a9",
            "cd1fc97e95ff4924a773f77deaee1a90",
            "8eb7702cef814585a580a2ec874b72b6",
            "01aea06634e24b8681edd334eaec47bf",
            "9cd0e25321fd46f8a7c78bab6bf50100",
            "a47e3aa49f2a4b698e4a3f555c372c7b",
            "6f59681340b64a2392289459b3d16d7e",
            "0a5e33a5257b4653b91b5afa4bc86197"
          ]
        },
        "outputId": "5ad65d16-d859-4134-e8db-007a89fb63cb"
      },
      "source": [
        "model = create_model(model_name_path, all_lab2ind, hidden_size).to(device)"
      ],
      "execution_count": null,
      "outputs": [
        {
          "output_type": "display_data",
          "data": {
            "application/vnd.jupyter.widget-view+json": {
              "model_id": "33c6e86895ab438ab19f4e1b90a4d63f",
              "version_minor": 0,
              "version_major": 2
            },
            "text/plain": [
              "Downloading:   0%|          | 0.00/501M [00:00<?, ?B/s]"
            ]
          },
          "metadata": {}
        },
        {
          "output_type": "stream",
          "text": [
            "Some weights of the model checkpoint at roberta-base were not used when initializing RobertaModel: ['lm_head.layer_norm.bias', 'lm_head.dense.weight', 'lm_head.bias', 'lm_head.dense.bias', 'lm_head.layer_norm.weight', 'lm_head.decoder.weight']\n",
            "- This IS expected if you are initializing RobertaModel from the checkpoint of a model trained on another task or with another architecture (e.g. initializing a BertForSequenceClassification model from a BertForPreTraining model).\n",
            "- This IS NOT expected if you are initializing RobertaModel from the checkpoint of a model that you expect to be exactly identical (initializing a BertForSequenceClassification model from a BertForSequenceClassification model).\n"
          ],
          "name": "stderr"
        }
      ]
    },
    {
      "cell_type": "markdown",
      "metadata": {
        "id": "Fphs6UtoLWTk"
      },
      "source": [
        "### Create an optimizer and scheduler. \n",
        "\n",
        "### Define a loss function, i.e., CrossEntropyLoss()."
      ]
    },
    {
      "cell_type": "code",
      "metadata": {
        "id": "7w4F7Ye1-K1t"
      },
      "source": [
        "num_training_steps  = total_training_batch * num_train_epochs\n",
        "num_warmup_steps = num_training_steps * warmup_proportion"
      ],
      "execution_count": null,
      "outputs": []
    },
    {
      "cell_type": "code",
      "metadata": {
        "id": "nh2KxBPA_TBT"
      },
      "source": [
        "optimizer, scheduler = create_optimizer_and_scheduler(model, num_training_steps, num_warmup_steps, lr)\n",
        "loss_func = nn.CrossEntropyLoss()\n"
      ],
      "execution_count": null,
      "outputs": []
    },
    {
      "cell_type": "markdown",
      "metadata": {
        "id": "OcpTLkuJLnQf"
      },
      "source": [
        "# Model training"
      ]
    },
    {
      "cell_type": "code",
      "metadata": {
        "id": "PCUtwMC-_xCy",
        "colab": {
          "base_uri": "https://localhost:8080/"
        },
        "outputId": "f4ece377-0e1a-4754-fa4d-3c3d39ed9b3d"
      },
      "source": [
        "all_result_acc_dev = defaultdict(list)\n",
        "all_result_loss_dev = defaultdict(list)\n",
        "all_result_f1_dev = defaultdict(list)\n",
        "\n",
        "if os.path.isdir(output_dir) == False:\n",
        "    os.mkdir(output_dir)\n",
        "\n",
        "for epoch in trange(num_train_epochs, desc=\"Epoch\"):\n",
        "    text_file = open(os.path.join(output_dir,\"results.txt\"), \"a\")\n",
        "    _ = train(model, optimizer, scheduler, loss_func, data_sizes, total_training_batch, train_loaders)  \n",
        "    \n",
        "    # Evaluate at end of each epoch and save the evaluation results to a txt file.\n",
        "    text_file.write(' Epoch [{}/{}]\\n'.format(epoch+1, num_train_epochs))\n",
        "\n",
        "    for i, task in enumerate(task_names): \n",
        "        val_loss, val_acc, val_f1 = evaluate(model, valid_loaders[i], loss_func, i)\n",
        "        \n",
        "        all_result_acc_dev[task].append(val_acc)\n",
        "        all_result_loss_dev[task].append(val_loss)\n",
        "        all_result_f1_dev[task].append(val_f1)\n",
        "\n",
        "\n",
        "        text_file.write(' Task {}:\\n Validation Accuracy: {:.6f}, Validation F1: {:.6f}\\n'.format(task, val_acc, val_f1))\n",
        "        print(' Task {}:\\n Validation Accuracy: {:.6f}, Validation F1: {:.6f}\\n'.format(task, val_acc, val_f1))\n",
        "\n",
        "    text_file.write(\"\\n\\n\")\n",
        "    text_file.close()\n",
        "\n",
        "    final_result = {}\n",
        "    final_result[\"all_result_acc_dev\"] = all_result_acc_dev\n",
        "    final_result[\"all_result_loss_dev\"] = all_result_loss_dev\n",
        "    final_result[\"all_result_f1_dev\"] = all_result_f1_dev\n",
        "\n",
        "    torch.save(final_result, os.path.join(output_dir, \"all_res.pt\"))\n",
        "    \n",
        "    # Create a model checkpoint at end of each epoch\n",
        "    if torch.cuda.device_count() <= 1:\n",
        "        state_dict_model = model.state_dict()\n",
        "    else:\n",
        "        state_dict_model = model.module.state_dict()\n",
        "\n",
        "    state = {\n",
        "    'epoch': epoch,\n",
        "    'state_dict': state_dict_model,\n",
        "    'optimizer': optimizer.state_dict(),\n",
        "    'scheduler': scheduler.state_dict()\n",
        "    }\n",
        "    \n",
        "    torch.save(state, os.path.join(output_dir,\"mt{}_{}.pt\".format(len(task_names),str(epoch+1))))\n"
      ],
      "execution_count": null,
      "outputs": [
        {
          "output_type": "stream",
          "text": [
            "\rEpoch:   0%|          | 0/5 [00:00<?, ?it/s]"
          ],
          "name": "stderr"
        },
        {
          "output_type": "stream",
          "text": [
            " Task emotion-2018task1:\n",
            " Validation Accuracy: 0.780749, Validation F1: 0.705866\n",
            "\n",
            " Task sentiment-2017task4:\n",
            " Validation Accuracy: 0.713955, Validation F1: 0.695989\n",
            "\n"
          ],
          "name": "stdout"
        },
        {
          "output_type": "stream",
          "text": [
            "\rEpoch:  20%|██        | 1/5 [16:32<1:06:11, 992.87s/it]"
          ],
          "name": "stderr"
        },
        {
          "output_type": "stream",
          "text": [
            " Task emotion-2018task1:\n",
            " Validation Accuracy: 0.802139, Validation F1: 0.736963\n",
            "\n",
            " Task sentiment-2017task4:\n",
            " Validation Accuracy: 0.728899, Validation F1: 0.721395\n",
            "\n"
          ],
          "name": "stdout"
        },
        {
          "output_type": "stream",
          "text": [
            "\rEpoch:  40%|████      | 2/5 [33:06<49:40, 993.57s/it]  "
          ],
          "name": "stderr"
        },
        {
          "output_type": "stream",
          "text": [
            " Task emotion-2018task1:\n",
            " Validation Accuracy: 0.810160, Validation F1: 0.747092\n",
            "\n",
            " Task sentiment-2017task4:\n",
            " Validation Accuracy: 0.732898, Validation F1: 0.725183\n",
            "\n"
          ],
          "name": "stdout"
        },
        {
          "output_type": "stream",
          "text": [
            "\rEpoch:  60%|██████    | 3/5 [49:38<33:05, 992.86s/it]"
          ],
          "name": "stderr"
        },
        {
          "output_type": "stream",
          "text": [
            " Task emotion-2018task1:\n",
            " Validation Accuracy: 0.791444, Validation F1: 0.737231\n",
            "\n",
            " Task sentiment-2017task4:\n",
            " Validation Accuracy: 0.729952, Validation F1: 0.722917\n",
            "\n"
          ],
          "name": "stdout"
        },
        {
          "output_type": "stream",
          "text": [
            "\rEpoch:  80%|████████  | 4/5 [1:06:12<16:33, 993.11s/it]"
          ],
          "name": "stderr"
        },
        {
          "output_type": "stream",
          "text": [
            " Task emotion-2018task1:\n",
            " Validation Accuracy: 0.804813, Validation F1: 0.743751\n",
            "\n",
            " Task sentiment-2017task4:\n",
            " Validation Accuracy: 0.733740, Validation F1: 0.725674\n",
            "\n"
          ],
          "name": "stdout"
        },
        {
          "output_type": "stream",
          "text": [
            "Epoch: 100%|██████████| 5/5 [1:22:44<00:00, 992.92s/it]\n"
          ],
          "name": "stderr"
        }
      ]
    },
    {
      "cell_type": "markdown",
      "metadata": {
        "id": "S72hkNPGNA3v"
      },
      "source": [
        "## Testing and Inference\n",
        "\n",
        "* You should find the best model of each task based on the validation performance. Then, you load the checkpoint of the best model and test on the best model. \n",
        "* You may find that the tasks obtain their best results at the different epochs. Hence, you test the best model of each task separately. "
      ]
    },
    {
      "cell_type": "markdown",
      "metadata": {
        "id": "HVzwNqXwPL6t"
      },
      "source": [
        "For example, emotion recognition task obtain the best validation F1 score with 1 epoch. Hence, we load `mt2_5.pt` and test on Test set of emotion recognition task."
      ]
    },
    {
      "cell_type": "code",
      "metadata": {
        "id": "bMvq5kCKPLY1",
        "colab": {
          "base_uri": "https://localhost:8080/"
        },
        "outputId": "8f57dc57-5608-45dc-a1a6-1e3414da318a"
      },
      "source": [
        "model = create_model(model_name_path, all_lab2ind, hidden_size)"
      ],
      "execution_count": null,
      "outputs": [
        {
          "output_type": "stream",
          "text": [
            "Some weights of the model checkpoint at roberta-base were not used when initializing RobertaModel: ['lm_head.layer_norm.bias', 'lm_head.dense.weight', 'lm_head.bias', 'lm_head.dense.bias', 'lm_head.layer_norm.weight', 'lm_head.decoder.weight']\n",
            "- This IS expected if you are initializing RobertaModel from the checkpoint of a model trained on another task or with another architecture (e.g. initializing a BertForSequenceClassification model from a BertForPreTraining model).\n",
            "- This IS NOT expected if you are initializing RobertaModel from the checkpoint of a model that you expect to be exactly identical (initializing a BertForSequenceClassification model from a BertForSequenceClassification model).\n"
          ],
          "name": "stderr"
        }
      ]
    },
    {
      "cell_type": "code",
      "metadata": {
        "id": "Uhvq4TdCQrbL"
      },
      "source": [
        "checkpoint = torch.load(\"./mtl-rb/mt2_5.pt\", map_location='cpu')\n",
        "model.load_state_dict(checkpoint['state_dict'])\n",
        "model = model.to(device)"
      ],
      "execution_count": null,
      "outputs": []
    },
    {
      "cell_type": "code",
      "metadata": {
        "id": "Ckc9cjO0RHqw",
        "colab": {
          "base_uri": "https://localhost:8080/"
        },
        "outputId": "b93d0289-5bb2-4018-adac-1e440a31f5a9"
      },
      "source": [
        "task_id = 0\n",
        "test_loss, test_acc, test_f1 = evaluate(model, test_loaders[task_id], loss_func, task_id)\n",
        "print(' Task {}:\\n Test Accuracy: {:.6f}, Test F1: {:.6f}\\n'.format(task_names[task_id], test_acc, test_f1))"
      ],
      "execution_count": null,
      "outputs": [
        {
          "output_type": "stream",
          "text": [
            " Task emotion-2018task1:\n",
            " Test Accuracy: 0.815623, Test F1: 0.781675\n",
            "\n"
          ],
          "name": "stdout"
        }
      ]
    },
    {
      "cell_type": "code",
      "metadata": {
        "id": "nMxtpwr_l-Up"
      },
      "source": [
        ""
      ],
      "execution_count": null,
      "outputs": []
    },
    {
      "cell_type": "markdown",
      "metadata": {
        "id": "WdDc2druliKC"
      },
      "source": [
        "## Library for Transformer-based multi-task learning: \n",
        "\n",
        "JIANT (https://github.com/nyu-mll/jiant)\n"
      ]
    },
    {
      "cell_type": "markdown",
      "metadata": {
        "id": "_KmIE-mkUy_q"
      },
      "source": [
        "## Reference\n",
        "\n",
        "* Caruana, R. (1997). Multitask learning. Machine learning, 28(1), 41-75.\n",
        "* Liu, X., He, P., Chen, W., & Gao, J. (2019, July). Multi-Task Deep Neural Networks for Natural Language Understanding. In Proceedings of the 57th Annual Meeting of the Association for Computational Linguistics (pp. 4487-4496)."
      ]
    }
  ]
}